{
 "cells": [
  {
   "cell_type": "markdown",
   "id": "b3b6407b",
   "metadata": {
    "papermill": {
     "duration": 0.035474,
     "end_time": "2022-01-28T00:14:55.530884",
     "exception": false,
     "start_time": "2022-01-28T00:14:55.495410",
     "status": "completed"
    },
    "tags": []
   },
   "source": [
    "**ESTE NOTEBOOK NO ES NECESARIO EJECUTARLO CON LA GPU**"
   ]
  },
  {
   "cell_type": "markdown",
   "id": "bd627de3",
   "metadata": {
    "papermill": {
     "duration": 0.036461,
     "end_time": "2022-01-28T00:14:55.604963",
     "exception": false,
     "start_time": "2022-01-28T00:14:55.568502",
     "status": "completed"
    },
    "tags": []
   },
   "source": [
    "# Etiquetado de las pymes españolas"
   ]
  },
  {
   "cell_type": "markdown",
   "id": "9539b7ff",
   "metadata": {
    "papermill": {
     "duration": 0.034143,
     "end_time": "2022-01-28T00:14:55.674318",
     "exception": false,
     "start_time": "2022-01-28T00:14:55.640175",
     "status": "completed"
    },
    "tags": []
   },
   "source": [
    "Este notebook tiene como objetivo, aplicar el criterio principal del estudio mencionado en la sección **4.1.4** sobre las variables de la sección **6.2.1**, para identificar y etiquetar a las pymes zombis.\n",
    "\n",
    "Además, también se identifican zombis con el segundo criterio propuesto, con el fin de comparar el número de pymes zombis identificadas por ambos criterios, y asi llegar a la conclusión de si dichos criterios pueden funcionar de manera alternativa. \n",
    "\n",
    "Pero antes de continuar, es necesario recalcar nuevamente, que dichas variables se emplean con el fin único de etiquetar a las pymes zombis (un **1**) y no zombis (un **0**) del dataset total de **10907** pymes extraídas de SABI. Así, una vez que todas las pymes tengan una etiqueta asignada, se procederá con la extracción de las variables enumeradas en la sección **6.2.2**. Estas últimas son las que se emplearán finalmente como entrada a la red neuronal convolutiva, cuya principal intención será predecir con datos contables de los años anteriores (2017-2019) que empresas se convertirán en zombis en el año 2019."
   ]
  },
  {
   "cell_type": "markdown",
   "id": "16786707",
   "metadata": {
    "papermill": {
     "duration": 0.034128,
     "end_time": "2022-01-28T00:14:55.743006",
     "exception": false,
     "start_time": "2022-01-28T00:14:55.708878",
     "status": "completed"
    },
    "tags": []
   },
   "source": [
    "## Importación de librerías"
   ]
  },
  {
   "cell_type": "markdown",
   "id": "539ed5e6",
   "metadata": {
    "papermill": {
     "duration": 0.034865,
     "end_time": "2022-01-28T00:14:55.811914",
     "exception": false,
     "start_time": "2022-01-28T00:14:55.777049",
     "status": "completed"
    },
    "tags": []
   },
   "source": [
    "A continuación, se procede con la importación de las librerías necesarias para la ejecución correcta del notebook"
   ]
  },
  {
   "cell_type": "code",
   "execution_count": 1,
   "id": "620024f0",
   "metadata": {
    "execution": {
     "iopub.execute_input": "2022-01-28T00:14:55.891154Z",
     "iopub.status.busy": "2022-01-28T00:14:55.890350Z",
     "iopub.status.idle": "2022-01-28T00:14:55.893932Z",
     "shell.execute_reply": "2022-01-28T00:14:55.893331Z",
     "shell.execute_reply.started": "2022-01-27T23:54:33.193476Z"
    },
    "papermill": {
     "duration": 0.047695,
     "end_time": "2022-01-28T00:14:55.894056",
     "exception": false,
     "start_time": "2022-01-28T00:14:55.846361",
     "status": "completed"
    },
    "tags": []
   },
   "outputs": [],
   "source": [
    "import pandas as pd"
   ]
  },
  {
   "cell_type": "code",
   "execution_count": 2,
   "id": "7ed42faa",
   "metadata": {
    "execution": {
     "iopub.execute_input": "2022-01-28T00:14:55.966564Z",
     "iopub.status.busy": "2022-01-28T00:14:55.965848Z",
     "iopub.status.idle": "2022-01-28T00:15:05.742401Z",
     "shell.execute_reply": "2022-01-28T00:15:05.741916Z",
     "shell.execute_reply.started": "2022-01-27T23:58:24.806285Z"
    },
    "papermill": {
     "duration": 9.814192,
     "end_time": "2022-01-28T00:15:05.742545",
     "exception": false,
     "start_time": "2022-01-28T00:14:55.928353",
     "status": "completed"
    },
    "tags": []
   },
   "outputs": [
    {
     "name": "stdout",
     "output_type": "stream",
     "text": [
      "Collecting openpyxl\r\n",
      "  Downloading openpyxl-3.0.9-py2.py3-none-any.whl (242 kB)\r\n",
      "     |████████████████████████████████| 242 kB 923 kB/s            \r\n",
      "\u001b[?25hCollecting et-xmlfile\r\n",
      "  Downloading et_xmlfile-1.1.0-py3-none-any.whl (4.7 kB)\r\n",
      "Installing collected packages: et-xmlfile, openpyxl\r\n",
      "Successfully installed et-xmlfile-1.1.0 openpyxl-3.0.9\r\n",
      "\u001b[33mWARNING: Running pip as the 'root' user can result in broken permissions and conflicting behaviour with the system package manager. It is recommended to use a virtual environment instead: https://pip.pypa.io/warnings/venv\u001b[0m\r\n"
     ]
    }
   ],
   "source": [
    "!pip install openpyxl"
   ]
  },
  {
   "cell_type": "markdown",
   "id": "33ced9e0",
   "metadata": {
    "papermill": {
     "duration": 0.037002,
     "end_time": "2022-01-28T00:15:05.816898",
     "exception": false,
     "start_time": "2022-01-28T00:15:05.779896",
     "status": "completed"
    },
    "tags": []
   },
   "source": [
    "## Identificación y etiquetado de las pymes zombis españolas: Criterio principal"
   ]
  },
  {
   "cell_type": "markdown",
   "id": "8938e989",
   "metadata": {
    "papermill": {
     "duration": 0.036499,
     "end_time": "2022-01-28T00:15:05.890007",
     "exception": false,
     "start_time": "2022-01-28T00:15:05.853508",
     "status": "completed"
    },
    "tags": []
   },
   "source": [
    "### Carga de los tipos de intereses"
   ]
  },
  {
   "cell_type": "markdown",
   "id": "050f5896",
   "metadata": {
    "papermill": {
     "duration": 0.036363,
     "end_time": "2022-01-28T00:15:05.963321",
     "exception": false,
     "start_time": "2022-01-28T00:15:05.926958",
     "status": "completed"
    },
    "tags": []
   },
   "source": [
    "En primer lugar, es necesario cargar en un *dataframe* de pandas, los tipos de intereses medios anuales desde el año 2016 hasta el 2019. Así, tal y como se menciona en la sección **4.1.4**, dichos tipos de intereses consisten en datos externos a SABI y que han sido recolectados desde la página oficial de Banco de España.\n",
    "\n",
    "Estos tipos de intereses se emplearán para el cálculo de la variable **R*** para cada empresa de la muestra y para los años: 2019, 2018 y 2017, respectivamente.\n",
    "\n",
    "**SI SE EJECUTA ESTE NOTEBOOK EN LOCAL PUES SE DEBE CAMBIAR LA RUTA**"
   ]
  },
  {
   "cell_type": "code",
   "execution_count": 3,
   "id": "27820a99",
   "metadata": {
    "execution": {
     "iopub.execute_input": "2022-01-28T00:15:06.042576Z",
     "iopub.status.busy": "2022-01-28T00:15:06.041788Z",
     "iopub.status.idle": "2022-01-28T00:15:06.359361Z",
     "shell.execute_reply": "2022-01-28T00:15:06.358454Z",
     "shell.execute_reply.started": "2022-01-27T23:58:55.209930Z"
    },
    "papermill": {
     "duration": 0.359189,
     "end_time": "2022-01-28T00:15:06.359558",
     "exception": false,
     "start_time": "2022-01-28T00:15:06.000369",
     "status": "completed"
    },
    "tags": []
   },
   "outputs": [],
   "source": [
    "interest_rates = pd.read_excel('../input/datos-notebook-1/tipos_intereses.xlsx', \"tipos_criterio_1\")"
   ]
  },
  {
   "cell_type": "markdown",
   "id": "0e26caf5",
   "metadata": {
    "papermill": {
     "duration": 0.036909,
     "end_time": "2022-01-28T00:15:06.434174",
     "exception": false,
     "start_time": "2022-01-28T00:15:06.397265",
     "status": "completed"
    },
    "tags": []
   },
   "source": [
    "Como se puede observar en la celda de abajo, el Banco de España ofrece los tipos de intereses aplicados por las instituciones financieras monetarias residentes en la Unión Económica y Monetaria (UEM) sobre los préstamos y créditos concedidos a las sociedades no financieras, en **dos grupos temporales** bien diferenciados:\n",
    "- Créditos a corto plazo (c/p)\n",
    "- Créditos a largo plazo (l/p)\n",
    "\n",
    "Además, cada uno de los grupos temporales anteriores, se encuentran divididos en **tres posibles rangos de créditos**:\n",
    "- Créditos <= 250.000 euros\n",
    "- Créditos < 250.000 <= 1.000.000 euros\n",
    "- Créditos > 1.000.000 euros\n",
    "\n",
    "Por lo tanto, al calcular la variable **R*** para cada una de las empresas y año (**ecuación 8** de la memoria), habrá que tener en cuenta la temporalidad y el rango entre la que se encuentra su deuda remunerada, para posteriormente multiplicarlas por el tipo de interés que corresponda.\n",
    "\n",
    "Un último detalle a destacar con respecto a los tipos de intereses cargados previamente es que, tal y como se puede apreciar en la **ecuación 8** de la memoria, el factor que multiplica a la deuda remunerada a largo plazo consiste en una media de los tipos de intereses a largo plazo de los cinco años anteriores. En este sentido, y para una mayor facilidad del notebook, dichas medias ya han sido previamente calculadas en Excel y son las que figuran en los intereses a largo plazo del ***dataframe: interest_rates***.   \n"
   ]
  },
  {
   "cell_type": "code",
   "execution_count": 4,
   "id": "ce1dd56b",
   "metadata": {
    "execution": {
     "iopub.execute_input": "2022-01-28T00:15:06.516159Z",
     "iopub.status.busy": "2022-01-28T00:15:06.515322Z",
     "iopub.status.idle": "2022-01-28T00:15:06.527636Z",
     "shell.execute_reply": "2022-01-28T00:15:06.528049Z",
     "shell.execute_reply.started": "2022-01-28T00:01:12.402546Z"
    },
    "papermill": {
     "duration": 0.057136,
     "end_time": "2022-01-28T00:15:06.528189",
     "exception": false,
     "start_time": "2022-01-28T00:15:06.471053",
     "status": "completed"
    },
    "tags": []
   },
   "outputs": [
    {
     "data": {
      "text/html": [
       "<div>\n",
       "<style scoped>\n",
       "    .dataframe tbody tr th:only-of-type {\n",
       "        vertical-align: middle;\n",
       "    }\n",
       "\n",
       "    .dataframe tbody tr th {\n",
       "        vertical-align: top;\n",
       "    }\n",
       "\n",
       "    .dataframe thead th {\n",
       "        text-align: right;\n",
       "    }\n",
       "</style>\n",
       "<table border=\"1\" class=\"dataframe\">\n",
       "  <thead>\n",
       "    <tr style=\"text-align: right;\">\n",
       "      <th></th>\n",
       "      <th>Año</th>\n",
       "      <th>Créditos c/p ≤ 250.000 euros</th>\n",
       "      <th>250.000 &lt; Créditos c/p ≤ 1M euros</th>\n",
       "      <th>Créditos c/p &gt; 1M euros</th>\n",
       "      <th>Créditos l/p ≤ 250.000 euros</th>\n",
       "      <th>250.000 &lt; Créditos l/p ≤ 1M euros</th>\n",
       "      <th>Créditos l/p &gt; 1M euros</th>\n",
       "    </tr>\n",
       "  </thead>\n",
       "  <tbody>\n",
       "    <tr>\n",
       "      <th>0</th>\n",
       "      <td>2016</td>\n",
       "      <td>2.92000</td>\n",
       "      <td>1.885917</td>\n",
       "      <td>1.684083</td>\n",
       "      <td>5.729200</td>\n",
       "      <td>4.435642</td>\n",
       "      <td>3.244300</td>\n",
       "    </tr>\n",
       "    <tr>\n",
       "      <th>1</th>\n",
       "      <td>2017</td>\n",
       "      <td>2.43025</td>\n",
       "      <td>1.671833</td>\n",
       "      <td>1.633833</td>\n",
       "      <td>5.031867</td>\n",
       "      <td>3.744883</td>\n",
       "      <td>2.862692</td>\n",
       "    </tr>\n",
       "    <tr>\n",
       "      <th>2</th>\n",
       "      <td>2018</td>\n",
       "      <td>2.11250</td>\n",
       "      <td>1.551167</td>\n",
       "      <td>1.585583</td>\n",
       "      <td>4.324275</td>\n",
       "      <td>3.071658</td>\n",
       "      <td>2.452083</td>\n",
       "    </tr>\n",
       "    <tr>\n",
       "      <th>3</th>\n",
       "      <td>2019</td>\n",
       "      <td>1.98075</td>\n",
       "      <td>1.495833</td>\n",
       "      <td>1.469667</td>\n",
       "      <td>3.613233</td>\n",
       "      <td>2.377417</td>\n",
       "      <td>2.020025</td>\n",
       "    </tr>\n",
       "  </tbody>\n",
       "</table>\n",
       "</div>"
      ],
      "text/plain": [
       "    Año  Créditos c/p ≤ 250.000 euros  250.000 < Créditos c/p ≤ 1M euros  \\\n",
       "0  2016                       2.92000                           1.885917   \n",
       "1  2017                       2.43025                           1.671833   \n",
       "2  2018                       2.11250                           1.551167   \n",
       "3  2019                       1.98075                           1.495833   \n",
       "\n",
       "   Créditos c/p > 1M euros  Créditos l/p ≤ 250.000 euros  \\\n",
       "0                 1.684083                      5.729200   \n",
       "1                 1.633833                      5.031867   \n",
       "2                 1.585583                      4.324275   \n",
       "3                 1.469667                      3.613233   \n",
       "\n",
       "   250.000 < Créditos l/p ≤ 1M euros  Créditos l/p > 1M euros  \n",
       "0                           4.435642                 3.244300  \n",
       "1                           3.744883                 2.862692  \n",
       "2                           3.071658                 2.452083  \n",
       "3                           2.377417                 2.020025  "
      ]
     },
     "execution_count": 4,
     "metadata": {},
     "output_type": "execute_result"
    }
   ],
   "source": [
    "interest_rates.head()"
   ]
  },
  {
   "cell_type": "markdown",
   "id": "c39d36e7",
   "metadata": {
    "papermill": {
     "duration": 0.037064,
     "end_time": "2022-01-28T00:15:06.604207",
     "exception": false,
     "start_time": "2022-01-28T00:15:06.567143",
     "status": "completed"
    },
    "tags": []
   },
   "source": [
    "### Carga de las pymes iniciales descargadas de SABI"
   ]
  },
  {
   "cell_type": "markdown",
   "id": "c4c77424",
   "metadata": {
    "papermill": {
     "duration": 0.036636,
     "end_time": "2022-01-28T00:15:06.677663",
     "exception": false,
     "start_time": "2022-01-28T00:15:06.641027",
     "status": "completed"
    },
    "tags": []
   },
   "source": [
    "El siguiente paso es cargar en otro *dataframe* de pandas las variables que han sido extraídas en la sección **6.2.1**. Asi, estas variables son las que permitirán al estudio diferenciar entre las pymes zombis y no zombis.\n",
    "\n",
    "Como se puede observar, el *dataframe*: **sme**, posee todas aquellas variables mencionadas en la sección **6.2.1** además del **Código NIF** y **Nombre** de la empresa.\n",
    "\n",
    "**SI SE EJECUTA ESTE NOTEBOOK EN LOCAL PUES SE DEBE CAMBIAR LA RUTA**"
   ]
  },
  {
   "cell_type": "code",
   "execution_count": 5,
   "id": "2e37a7ad",
   "metadata": {
    "execution": {
     "iopub.execute_input": "2022-01-28T00:15:06.755652Z",
     "iopub.status.busy": "2022-01-28T00:15:06.755091Z",
     "iopub.status.idle": "2022-01-28T00:15:11.289506Z",
     "shell.execute_reply": "2022-01-28T00:15:11.288990Z",
     "shell.execute_reply.started": "2022-01-28T00:02:32.985119Z"
    },
    "papermill": {
     "duration": 4.575224,
     "end_time": "2022-01-28T00:15:11.289654",
     "exception": false,
     "start_time": "2022-01-28T00:15:06.714430",
     "status": "completed"
    },
    "tags": []
   },
   "outputs": [
    {
     "data": {
      "text/html": [
       "<div>\n",
       "<style scoped>\n",
       "    .dataframe tbody tr th:only-of-type {\n",
       "        vertical-align: middle;\n",
       "    }\n",
       "\n",
       "    .dataframe tbody tr th {\n",
       "        vertical-align: top;\n",
       "    }\n",
       "\n",
       "    .dataframe thead th {\n",
       "        text-align: right;\n",
       "    }\n",
       "</style>\n",
       "<table border=\"1\" class=\"dataframe\">\n",
       "  <thead>\n",
       "    <tr style=\"text-align: right;\">\n",
       "      <th></th>\n",
       "      <th>Código NIF</th>\n",
       "      <th>Nombre</th>\n",
       "      <th>ebit 2019</th>\n",
       "      <th>ebit 2018</th>\n",
       "      <th>ebit 2017</th>\n",
       "      <th>deuda_c/p 2019</th>\n",
       "      <th>deuda_c/p 2018</th>\n",
       "      <th>deuda_c/p 2017</th>\n",
       "      <th>deuda_c/p 2016</th>\n",
       "      <th>deuda_con_grupo_c/p 2019</th>\n",
       "      <th>...</th>\n",
       "      <th>deuda_con_grupo_c/p 2016</th>\n",
       "      <th>deuda_l/p 2019</th>\n",
       "      <th>deuda_l/p 2018</th>\n",
       "      <th>deuda_l/p 2017</th>\n",
       "      <th>deuda_l/p 2016</th>\n",
       "      <th>deuda_con_grupo_l/p 2019</th>\n",
       "      <th>deuda_con_grupo_l/p 2018</th>\n",
       "      <th>deuda_con_grupo_l/p 2017</th>\n",
       "      <th>deuda_con_grupo_l/p 2016</th>\n",
       "      <th>gastos_financieros 2019</th>\n",
       "    </tr>\n",
       "  </thead>\n",
       "  <tbody>\n",
       "    <tr>\n",
       "      <th>0</th>\n",
       "      <td>A01007137</td>\n",
       "      <td>HOTELES VASCO-CATALANES, SA</td>\n",
       "      <td>859610.58</td>\n",
       "      <td>2038175.84</td>\n",
       "      <td>2193826.07</td>\n",
       "      <td>221309.04</td>\n",
       "      <td>239764.46</td>\n",
       "      <td>243580.33</td>\n",
       "      <td>226284.97</td>\n",
       "      <td>n.d.</td>\n",
       "      <td>...</td>\n",
       "      <td>n.d.</td>\n",
       "      <td>n.d.</td>\n",
       "      <td>n.d.</td>\n",
       "      <td>n.d.</td>\n",
       "      <td>n.d.</td>\n",
       "      <td>n.d.</td>\n",
       "      <td>n.d.</td>\n",
       "      <td>n.d.</td>\n",
       "      <td>n.d.</td>\n",
       "      <td>n.d.</td>\n",
       "    </tr>\n",
       "    <tr>\n",
       "      <th>1</th>\n",
       "      <td>A01012764</td>\n",
       "      <td>HOTEL HELIOS C'AN PASTILLA, SA</td>\n",
       "      <td>1317266.62</td>\n",
       "      <td>2094048.12</td>\n",
       "      <td>1962945.93</td>\n",
       "      <td>215630.61</td>\n",
       "      <td>201823.32</td>\n",
       "      <td>211778.59</td>\n",
       "      <td>120633.96</td>\n",
       "      <td>n.d.</td>\n",
       "      <td>...</td>\n",
       "      <td>n.d.</td>\n",
       "      <td>2271.83</td>\n",
       "      <td>2271.83</td>\n",
       "      <td>2271.83</td>\n",
       "      <td>2271.83</td>\n",
       "      <td>n.d.</td>\n",
       "      <td>n.d.</td>\n",
       "      <td>n.d.</td>\n",
       "      <td>n.d.</td>\n",
       "      <td>n.d.</td>\n",
       "    </tr>\n",
       "    <tr>\n",
       "      <th>2</th>\n",
       "      <td>A01045772</td>\n",
       "      <td>BAR RESTAURANTE LOS GUARANIS SA</td>\n",
       "      <td>-5106.77</td>\n",
       "      <td>-36794.05</td>\n",
       "      <td>-14717.25</td>\n",
       "      <td>8500</td>\n",
       "      <td>2123.97</td>\n",
       "      <td>1146.18</td>\n",
       "      <td>8938.08</td>\n",
       "      <td>n.d.</td>\n",
       "      <td>...</td>\n",
       "      <td>n.d.</td>\n",
       "      <td>8376.42</td>\n",
       "      <td>25335.05</td>\n",
       "      <td>33564.5</td>\n",
       "      <td>33670.97</td>\n",
       "      <td>n.d.</td>\n",
       "      <td>n.d.</td>\n",
       "      <td>n.d.</td>\n",
       "      <td>n.d.</td>\n",
       "      <td>-2272.58</td>\n",
       "    </tr>\n",
       "    <tr>\n",
       "      <th>3</th>\n",
       "      <td>A01104157</td>\n",
       "      <td>EXPLOTACIONES SUBIJANA DE ALAVA SA</td>\n",
       "      <td>979628.32</td>\n",
       "      <td>1131808.94</td>\n",
       "      <td>841951.59</td>\n",
       "      <td>1259167.65</td>\n",
       "      <td>1802709.72</td>\n",
       "      <td>1615663.79</td>\n",
       "      <td>846415.71</td>\n",
       "      <td>n.d.</td>\n",
       "      <td>...</td>\n",
       "      <td>n.d.</td>\n",
       "      <td>13590231.27</td>\n",
       "      <td>8672240.51</td>\n",
       "      <td>9149877.46</td>\n",
       "      <td>10377394.89</td>\n",
       "      <td>n.d.</td>\n",
       "      <td>n.d.</td>\n",
       "      <td>n.d.</td>\n",
       "      <td>n.d.</td>\n",
       "      <td>-157270.5</td>\n",
       "    </tr>\n",
       "    <tr>\n",
       "      <th>4</th>\n",
       "      <td>A01280577</td>\n",
       "      <td>BIASTERI TURISMO SA</td>\n",
       "      <td>209594.38</td>\n",
       "      <td>121434.18</td>\n",
       "      <td>178080.51</td>\n",
       "      <td>333764.6</td>\n",
       "      <td>743774.29</td>\n",
       "      <td>714753.39</td>\n",
       "      <td>557864.83</td>\n",
       "      <td>n.d.</td>\n",
       "      <td>...</td>\n",
       "      <td>n.d.</td>\n",
       "      <td>2785539.59</td>\n",
       "      <td>2030134.58</td>\n",
       "      <td>2253090.37</td>\n",
       "      <td>2553240.82</td>\n",
       "      <td>n.d.</td>\n",
       "      <td>n.d.</td>\n",
       "      <td>n.d.</td>\n",
       "      <td>n.d.</td>\n",
       "      <td>-168325.77</td>\n",
       "    </tr>\n",
       "  </tbody>\n",
       "</table>\n",
       "<p>5 rows × 22 columns</p>\n",
       "</div>"
      ],
      "text/plain": [
       "  Código NIF                              Nombre   ebit 2019   ebit 2018  \\\n",
       "0  A01007137         HOTELES VASCO-CATALANES, SA   859610.58  2038175.84   \n",
       "1  A01012764      HOTEL HELIOS C'AN PASTILLA, SA  1317266.62  2094048.12   \n",
       "2  A01045772     BAR RESTAURANTE LOS GUARANIS SA    -5106.77   -36794.05   \n",
       "3  A01104157  EXPLOTACIONES SUBIJANA DE ALAVA SA   979628.32  1131808.94   \n",
       "4  A01280577                 BIASTERI TURISMO SA   209594.38   121434.18   \n",
       "\n",
       "    ebit 2017 deuda_c/p 2019 deuda_c/p 2018 deuda_c/p 2017 deuda_c/p 2016  \\\n",
       "0  2193826.07      221309.04      239764.46      243580.33      226284.97   \n",
       "1  1962945.93      215630.61      201823.32      211778.59      120633.96   \n",
       "2   -14717.25           8500        2123.97        1146.18        8938.08   \n",
       "3   841951.59     1259167.65     1802709.72     1615663.79      846415.71   \n",
       "4   178080.51       333764.6      743774.29      714753.39      557864.83   \n",
       "\n",
       "  deuda_con_grupo_c/p 2019  ... deuda_con_grupo_c/p 2016 deuda_l/p 2019  \\\n",
       "0                     n.d.  ...                     n.d.           n.d.   \n",
       "1                     n.d.  ...                     n.d.        2271.83   \n",
       "2                     n.d.  ...                     n.d.        8376.42   \n",
       "3                     n.d.  ...                     n.d.    13590231.27   \n",
       "4                     n.d.  ...                     n.d.     2785539.59   \n",
       "\n",
       "  deuda_l/p 2018 deuda_l/p 2017 deuda_l/p 2016 deuda_con_grupo_l/p 2019  \\\n",
       "0           n.d.           n.d.           n.d.                     n.d.   \n",
       "1        2271.83        2271.83        2271.83                     n.d.   \n",
       "2       25335.05        33564.5       33670.97                     n.d.   \n",
       "3     8672240.51     9149877.46    10377394.89                     n.d.   \n",
       "4     2030134.58     2253090.37     2553240.82                     n.d.   \n",
       "\n",
       "  deuda_con_grupo_l/p 2018 deuda_con_grupo_l/p 2017 deuda_con_grupo_l/p 2016  \\\n",
       "0                     n.d.                     n.d.                     n.d.   \n",
       "1                     n.d.                     n.d.                     n.d.   \n",
       "2                     n.d.                     n.d.                     n.d.   \n",
       "3                     n.d.                     n.d.                     n.d.   \n",
       "4                     n.d.                     n.d.                     n.d.   \n",
       "\n",
       "  gastos_financieros 2019  \n",
       "0                    n.d.  \n",
       "1                    n.d.  \n",
       "2                -2272.58  \n",
       "3               -157270.5  \n",
       "4              -168325.77  \n",
       "\n",
       "[5 rows x 22 columns]"
      ]
     },
     "execution_count": 5,
     "metadata": {},
     "output_type": "execute_result"
    }
   ],
   "source": [
    "sme = pd.read_excel('../input/datos-notebook-1/pymes_iniciales.xlsx', 'variables')\n",
    "sme.head()"
   ]
  },
  {
   "cell_type": "markdown",
   "id": "12eba346",
   "metadata": {
    "papermill": {
     "duration": 0.039031,
     "end_time": "2022-01-28T00:15:11.367570",
     "exception": false,
     "start_time": "2022-01-28T00:15:11.328539",
     "status": "completed"
    },
    "tags": []
   },
   "source": [
    "### Limpieza de datos y cálculo de las variables necesarias"
   ]
  },
  {
   "cell_type": "markdown",
   "id": "22e82538",
   "metadata": {
    "papermill": {
     "duration": 0.037239,
     "end_time": "2022-01-28T00:15:11.442780",
     "exception": false,
     "start_time": "2022-01-28T00:15:11.405541",
     "status": "completed"
    },
    "tags": []
   },
   "source": [
    "Se define la función ***calculateTotalDebt(debt1, debt2):*** que devuelve el importe total de la deuda ya sea a corto o largo  plazo.\n",
    "\n",
    "Además, para la correcta identificación de las pymes zombis, todas aquellas empresas de la muestra que dispongan del valor: \"no disponible (n.d.)\" entre alguna de sus deudas se sustituye esta por un 0"
   ]
  },
  {
   "cell_type": "code",
   "execution_count": 6,
   "id": "572758cb",
   "metadata": {
    "execution": {
     "iopub.execute_input": "2022-01-28T00:15:11.522369Z",
     "iopub.status.busy": "2022-01-28T00:15:11.521569Z",
     "iopub.status.idle": "2022-01-28T00:15:11.524058Z",
     "shell.execute_reply": "2022-01-28T00:15:11.523628Z",
     "shell.execute_reply.started": "2022-01-28T00:03:34.618234Z"
    },
    "papermill": {
     "duration": 0.04404,
     "end_time": "2022-01-28T00:15:11.524165",
     "exception": false,
     "start_time": "2022-01-28T00:15:11.480125",
     "status": "completed"
    },
    "tags": []
   },
   "outputs": [],
   "source": [
    "def calculateTotalDebt(debt1, debt2):\n",
    "    if debt1 == 'n.d.': debt1 = 0\n",
    "    if debt2 == 'n.d.': debt2 = 0\n",
    "    return debt1 + debt2"
   ]
  },
  {
   "cell_type": "markdown",
   "id": "b73a84d8",
   "metadata": {
    "papermill": {
     "duration": 0.037352,
     "end_time": "2022-01-28T00:15:11.598707",
     "exception": false,
     "start_time": "2022-01-28T00:15:11.561355",
     "status": "completed"
    },
    "tags": []
   },
   "source": [
    "Se calculan las variables:\n",
    "- Deuda remunerada total a corto plazo (drt_cp)\n",
    "- Deuda remunerada total a largo plazo (drt_lp)\n",
    "- Deuda remunerada total (drt): solo para los años 2018 y 2019"
   ]
  },
  {
   "cell_type": "code",
   "execution_count": 7,
   "id": "5b9eb2f6",
   "metadata": {
    "execution": {
     "iopub.execute_input": "2022-01-28T00:15:11.676812Z",
     "iopub.status.busy": "2022-01-28T00:15:11.676019Z",
     "iopub.status.idle": "2022-01-28T00:15:12.227496Z",
     "shell.execute_reply": "2022-01-28T00:15:12.226954Z",
     "shell.execute_reply.started": "2022-01-28T00:04:07.737498Z"
    },
    "papermill": {
     "duration": 0.591196,
     "end_time": "2022-01-28T00:15:12.227625",
     "exception": false,
     "start_time": "2022-01-28T00:15:11.636429",
     "status": "completed"
    },
    "tags": []
   },
   "outputs": [],
   "source": [
    "sme['drt_cp 2019'] = sme[['deuda_c/p 2019','deuda_con_grupo_c/p 2019']].apply(lambda row: calculateTotalDebt(row[0],row[1]), axis=1)\n",
    "sme['drt_cp 2018'] = sme[['deuda_c/p 2018','deuda_con_grupo_c/p 2018']].apply(lambda row: calculateTotalDebt(row[0],row[1]), axis=1)\n",
    "sme['drt_cp 2017'] = sme[['deuda_c/p 2017','deuda_con_grupo_c/p 2017']].apply(lambda row: calculateTotalDebt(row[0],row[1]), axis=1)\n",
    "sme['drt_cp 2016'] = sme[['deuda_c/p 2016','deuda_con_grupo_c/p 2016']].apply(lambda row: calculateTotalDebt(row[0],row[1]), axis=1)"
   ]
  },
  {
   "cell_type": "code",
   "execution_count": 8,
   "id": "b7ff3c77",
   "metadata": {
    "execution": {
     "iopub.execute_input": "2022-01-28T00:15:12.310824Z",
     "iopub.status.busy": "2022-01-28T00:15:12.310017Z",
     "iopub.status.idle": "2022-01-28T00:15:12.850586Z",
     "shell.execute_reply": "2022-01-28T00:15:12.850075Z",
     "shell.execute_reply.started": "2022-01-28T00:04:10.524150Z"
    },
    "papermill": {
     "duration": 0.584945,
     "end_time": "2022-01-28T00:15:12.850727",
     "exception": false,
     "start_time": "2022-01-28T00:15:12.265782",
     "status": "completed"
    },
    "tags": []
   },
   "outputs": [],
   "source": [
    "sme['drt_lp 2019'] = sme[['deuda_l/p 2019','deuda_con_grupo_l/p 2019']].apply(lambda row: calculateTotalDebt(row[0],row[1]), axis=1)\n",
    "sme['drt_lp 2018'] = sme[['deuda_l/p 2018','deuda_con_grupo_l/p 2018']].apply(lambda row: calculateTotalDebt(row[0],row[1]), axis=1)\n",
    "sme['drt_lp 2017'] = sme[['deuda_l/p 2017','deuda_con_grupo_l/p 2017']].apply(lambda row: calculateTotalDebt(row[0],row[1]), axis=1)\n",
    "sme['drt_lp 2016'] = sme[['deuda_l/p 2016','deuda_con_grupo_l/p 2016']].apply(lambda row: calculateTotalDebt(row[0],row[1]), axis=1)"
   ]
  },
  {
   "cell_type": "code",
   "execution_count": 9,
   "id": "799c1048",
   "metadata": {
    "execution": {
     "iopub.execute_input": "2022-01-28T00:15:12.932872Z",
     "iopub.status.busy": "2022-01-28T00:15:12.932321Z",
     "iopub.status.idle": "2022-01-28T00:15:13.402353Z",
     "shell.execute_reply": "2022-01-28T00:15:13.401718Z",
     "shell.execute_reply.started": "2022-01-28T00:04:14.090275Z"
    },
    "papermill": {
     "duration": 0.51366,
     "end_time": "2022-01-28T00:15:13.402496",
     "exception": false,
     "start_time": "2022-01-28T00:15:12.888836",
     "status": "completed"
    },
    "tags": []
   },
   "outputs": [],
   "source": [
    "sme['drt 2019'] = sme[['drt_cp 2019','drt_lp 2019']].apply(lambda row: calculateTotalDebt(row[0],row[1]), axis=1)\n",
    "sme['drt 2018'] = sme[['drt_cp 2018','drt_lp 2018']].apply(lambda row: calculateTotalDebt(row[0],row[1]), axis=1)"
   ]
  },
  {
   "cell_type": "markdown",
   "id": "20de19c5",
   "metadata": {
    "papermill": {
     "duration": 0.038102,
     "end_time": "2022-01-28T00:15:13.479111",
     "exception": false,
     "start_time": "2022-01-28T00:15:13.441009",
     "status": "completed"
    },
    "tags": []
   },
   "source": [
    "En este punto, se eliminan todas las muestras que presentan el valor **n.d.** en los **gastos financieros**. Esto se debe a que dicha variable se emplea en el cálculo de **R** la cual a su vez se emplea en los criterios para identificar a las zombis. Por lo tanto, sustituir el valor faltante por un 0 no sería del todo adecuado y podríamos caer en el error de identificar a empresas no zombis como zombis o viceversa.\n",
    "\n",
    "Esto mismo se realiza con la variable **EBIT 2019, 2018 y 2017**"
   ]
  },
  {
   "cell_type": "code",
   "execution_count": 10,
   "id": "b20aee56",
   "metadata": {
    "execution": {
     "iopub.execute_input": "2022-01-28T00:15:13.562404Z",
     "iopub.status.busy": "2022-01-28T00:15:13.561629Z",
     "iopub.status.idle": "2022-01-28T00:15:13.568005Z",
     "shell.execute_reply": "2022-01-28T00:15:13.567589Z",
     "shell.execute_reply.started": "2022-01-28T00:05:06.411139Z"
    },
    "papermill": {
     "duration": 0.051508,
     "end_time": "2022-01-28T00:15:13.568120",
     "exception": false,
     "start_time": "2022-01-28T00:15:13.516612",
     "status": "completed"
    },
    "tags": []
   },
   "outputs": [
    {
     "name": "stdout",
     "output_type": "stream",
     "text": [
      "Porcentaje de pymes con gastos financieros a n.d.: 15.53131016778216 %\n"
     ]
    }
   ],
   "source": [
    "print(\"Porcentaje de pymes con gastos financieros a n.d.:\", (sme.loc[sme['gastos_financieros 2019'] == 'n.d.'].shape[0]/sme.shape[0])*100, \"%\")"
   ]
  },
  {
   "cell_type": "code",
   "execution_count": 11,
   "id": "5ad760e8",
   "metadata": {
    "execution": {
     "iopub.execute_input": "2022-01-28T00:15:13.650535Z",
     "iopub.status.busy": "2022-01-28T00:15:13.649842Z",
     "iopub.status.idle": "2022-01-28T00:15:13.660136Z",
     "shell.execute_reply": "2022-01-28T00:15:13.660548Z",
     "shell.execute_reply.started": "2022-01-28T00:05:10.562727Z"
    },
    "papermill": {
     "duration": 0.054632,
     "end_time": "2022-01-28T00:15:13.660696",
     "exception": false,
     "start_time": "2022-01-28T00:15:13.606064",
     "status": "completed"
    },
    "tags": []
   },
   "outputs": [
    {
     "data": {
      "text/plain": [
       "(9213, 32)"
      ]
     },
     "execution_count": 11,
     "metadata": {},
     "output_type": "execute_result"
    }
   ],
   "source": [
    "sme.drop(sme.loc[sme['gastos_financieros 2019'] == 'n.d.'].index, inplace=True)\n",
    "sme.shape"
   ]
  },
  {
   "cell_type": "code",
   "execution_count": 12,
   "id": "c0827798",
   "metadata": {
    "execution": {
     "iopub.execute_input": "2022-01-28T00:15:13.746026Z",
     "iopub.status.busy": "2022-01-28T00:15:13.745499Z",
     "iopub.status.idle": "2022-01-28T00:15:13.763478Z",
     "shell.execute_reply": "2022-01-28T00:15:13.763928Z",
     "shell.execute_reply.started": "2022-01-28T00:05:14.333838Z"
    },
    "papermill": {
     "duration": 0.065053,
     "end_time": "2022-01-28T00:15:13.764076",
     "exception": false,
     "start_time": "2022-01-28T00:15:13.699023",
     "status": "completed"
    },
    "tags": []
   },
   "outputs": [],
   "source": [
    "sme.drop(sme.loc[sme['ebit 2019'] == 'n.d.'].index, inplace=True)\n",
    "sme.drop(sme.loc[sme['ebit 2018'] == 'n.d.'].index, inplace=True)\n",
    "sme.drop(sme.loc[sme['ebit 2017'] == 'n.d.'].index, inplace=True)\n",
    "sme = sme.reset_index(drop=True)"
   ]
  },
  {
   "cell_type": "markdown",
   "id": "7bcd651d",
   "metadata": {
    "papermill": {
     "duration": 0.038375,
     "end_time": "2022-01-28T00:15:13.840657",
     "exception": false,
     "start_time": "2022-01-28T00:15:13.802282",
     "status": "completed"
    },
    "tags": []
   },
   "source": [
    "Esto nos deja con un total de **9204** de muestras restantes"
   ]
  },
  {
   "cell_type": "code",
   "execution_count": 13,
   "id": "9634f984",
   "metadata": {
    "execution": {
     "iopub.execute_input": "2022-01-28T00:15:13.923001Z",
     "iopub.status.busy": "2022-01-28T00:15:13.922155Z",
     "iopub.status.idle": "2022-01-28T00:15:13.925104Z",
     "shell.execute_reply": "2022-01-28T00:15:13.925551Z",
     "shell.execute_reply.started": "2022-01-28T00:05:18.799954Z"
    },
    "papermill": {
     "duration": 0.046905,
     "end_time": "2022-01-28T00:15:13.925682",
     "exception": false,
     "start_time": "2022-01-28T00:15:13.878777",
     "status": "completed"
    },
    "tags": []
   },
   "outputs": [
    {
     "data": {
      "text/plain": [
       "(9204, 32)"
      ]
     },
     "execution_count": 13,
     "metadata": {},
     "output_type": "execute_result"
    }
   ],
   "source": [
    "sme.shape"
   ]
  },
  {
   "cell_type": "markdown",
   "id": "97563829",
   "metadata": {
    "papermill": {
     "duration": 0.038119,
     "end_time": "2022-01-28T00:15:14.001909",
     "exception": false,
     "start_time": "2022-01-28T00:15:13.963790",
     "status": "completed"
    },
    "tags": []
   },
   "source": [
    "Se establecen los umbrales necesarios para poder diferenciar entre los tres rangos de créditos mencionados anteriormente:"
   ]
  },
  {
   "cell_type": "code",
   "execution_count": 14,
   "id": "6f32eedc",
   "metadata": {
    "execution": {
     "iopub.execute_input": "2022-01-28T00:15:14.083874Z",
     "iopub.status.busy": "2022-01-28T00:15:14.082970Z",
     "iopub.status.idle": "2022-01-28T00:15:14.084879Z",
     "shell.execute_reply": "2022-01-28T00:15:14.085292Z",
     "shell.execute_reply.started": "2022-01-28T00:05:44.949111Z"
    },
    "papermill": {
     "duration": 0.044787,
     "end_time": "2022-01-28T00:15:14.085455",
     "exception": false,
     "start_time": "2022-01-28T00:15:14.040668",
     "status": "completed"
    },
    "tags": []
   },
   "outputs": [],
   "source": [
    "credit_threshold_1 = 250000\n",
    "credit_threshold_2 = 1000000"
   ]
  },
  {
   "cell_type": "markdown",
   "id": "2bd9ee18",
   "metadata": {
    "papermill": {
     "duration": 0.038016,
     "end_time": "2022-01-28T00:15:14.161791",
     "exception": false,
     "start_time": "2022-01-28T00:15:14.123775",
     "status": "completed"
    },
    "tags": []
   },
   "source": [
    "Además, se definen las siguientes funciones que se utilizarán para el cálculo de R* y R en ambos criterios propuestos en el estudio:\n",
    "\n",
    "- ***calculateMinInterestPayment(drlp, drcp, year):*** devuelve el pago mínimo de intereses para una empresa, teniendo en cuenta su deuda remunerada a largo y corto plazo, y el año (**ecuación 8**).\n",
    "- ***getLoanInterest(credit, is_short_term, year):*** devuelve el tipo de interés medio a aplicar, teniendo en cuenta el rango entre el que se encuentra el crédito, su duración (corto o largo plazo) y el año.\n",
    "- ***calculateActualInterest(drt_2018,gf_2019):*** devuelve la variable R (**ecuación 7**) "
   ]
  },
  {
   "cell_type": "code",
   "execution_count": 15,
   "id": "09dab5ed",
   "metadata": {
    "execution": {
     "iopub.execute_input": "2022-01-28T00:15:14.250272Z",
     "iopub.status.busy": "2022-01-28T00:15:14.249478Z",
     "iopub.status.idle": "2022-01-28T00:15:14.251882Z",
     "shell.execute_reply": "2022-01-28T00:15:14.251445Z",
     "shell.execute_reply.started": "2022-01-28T00:06:39.901844Z"
    },
    "papermill": {
     "duration": 0.051992,
     "end_time": "2022-01-28T00:15:14.251989",
     "exception": false,
     "start_time": "2022-01-28T00:15:14.199997",
     "status": "completed"
    },
    "tags": []
   },
   "outputs": [],
   "source": [
    "def getLoanInterest(credit, is_short_term, year):\n",
    "    interest = None\n",
    "    if is_short_term:\n",
    "        if credit <= credit_threshold_1:\n",
    "            interest = interest_rates.loc[interest_rates.Año==year, 'Créditos c/p ≤ 250.000 euros'].values[0]\n",
    "        elif credit > credit_threshold_1 and credit <= credit_threshold_2:\n",
    "            interest = interest_rates.loc[interest_rates.Año==year, '250.000 < Créditos c/p ≤ 1M euros'].values[0]\n",
    "        else:\n",
    "            interest = interest_rates.loc[interest_rates.Año==year, 'Créditos c/p > 1M euros'].values[0] \n",
    "    else:\n",
    "        if credit <= credit_threshold_1:\n",
    "            interest = interest_rates.loc[interest_rates.Año==year, 'Créditos l/p ≤ 250.000 euros'].values[0]\n",
    "        elif credit > credit_threshold_1 and credit <= credit_threshold_2:\n",
    "            interest = interest_rates.loc[interest_rates.Año==year, '250.000 < Créditos l/p ≤ 1M euros'].values[0]\n",
    "        else:\n",
    "            interest = interest_rates.loc[interest_rates.Año==year, 'Créditos l/p > 1M euros'].values[0]\n",
    "    return interest/100\n",
    "\n",
    "def calculateMinInterestPayment(drlp, drcp, year):\n",
    "    rl = getLoanInterest(drlp, False, year-1)\n",
    "    rs = getLoanInterest(drcp, True, year-1)\n",
    "    return drcp*rs + drlp*rl\n",
    "\n",
    "def calculateActualInterest(drt_2018, gf_2019):\n",
    "    if drt_2018 == 0: return 0\n",
    "    else: return (-gf_2019)/drt_2018"
   ]
  },
  {
   "cell_type": "markdown",
   "id": "37a91e3f",
   "metadata": {
    "papermill": {
     "duration": 0.037891,
     "end_time": "2022-01-28T00:15:14.327867",
     "exception": false,
     "start_time": "2022-01-28T00:15:14.289976",
     "status": "completed"
    },
    "tags": []
   },
   "source": [
    "Se calcula la columna R* para los años: 2019, 2018 y 2017, y la columna R para el año 2019"
   ]
  },
  {
   "cell_type": "code",
   "execution_count": 16,
   "id": "26a5dd3a",
   "metadata": {
    "execution": {
     "iopub.execute_input": "2022-01-28T00:15:14.420722Z",
     "iopub.status.busy": "2022-01-28T00:15:14.416274Z",
     "iopub.status.idle": "2022-01-28T00:15:14.527533Z",
     "shell.execute_reply": "2022-01-28T00:15:14.527009Z",
     "shell.execute_reply.started": "2022-01-28T00:06:49.533410Z"
    },
    "papermill": {
     "duration": 0.161539,
     "end_time": "2022-01-28T00:15:14.527667",
     "exception": false,
     "start_time": "2022-01-28T00:15:14.366128",
     "status": "completed"
    },
    "tags": []
   },
   "outputs": [],
   "source": [
    "sme['r 2019'] = sme[['drt 2018', 'gastos_financieros 2019']].apply(lambda row: calculateActualInterest(row[0],row[1]), axis=1)"
   ]
  },
  {
   "cell_type": "code",
   "execution_count": 17,
   "id": "02349905",
   "metadata": {
    "execution": {
     "iopub.execute_input": "2022-01-28T00:15:14.621889Z",
     "iopub.status.busy": "2022-01-28T00:15:14.621026Z",
     "iopub.status.idle": "2022-01-28T00:15:28.292614Z",
     "shell.execute_reply": "2022-01-28T00:15:28.291701Z",
     "shell.execute_reply.started": "2022-01-28T00:06:52.277338Z"
    },
    "papermill": {
     "duration": 13.716991,
     "end_time": "2022-01-28T00:15:28.292760",
     "exception": false,
     "start_time": "2022-01-28T00:15:14.575769",
     "status": "completed"
    },
    "tags": []
   },
   "outputs": [],
   "source": [
    "sme['r* 2019'] = sme[['drt_lp 2018', 'drt_cp 2018']].apply(lambda row: calculateMinInterestPayment(row[0], row[1], 2019), axis=1)\n",
    "sme['r* 2018'] = sme[['drt_lp 2017', 'drt_cp 2017']].apply(lambda row: calculateMinInterestPayment(row[0], row[1], 2018), axis=1)\n",
    "sme['r* 2017'] = sme[['drt_lp 2016', 'drt_cp 2016']].apply(lambda row: calculateMinInterestPayment(row[0], row[1], 2017), axis=1)"
   ]
  },
  {
   "cell_type": "code",
   "execution_count": 18,
   "id": "f10f8670",
   "metadata": {
    "execution": {
     "iopub.execute_input": "2022-01-28T00:15:28.392277Z",
     "iopub.status.busy": "2022-01-28T00:15:28.391566Z",
     "iopub.status.idle": "2022-01-28T00:15:28.394540Z",
     "shell.execute_reply": "2022-01-28T00:15:28.394949Z",
     "shell.execute_reply.started": "2022-01-28T00:07:10.759006Z"
    },
    "papermill": {
     "duration": 0.063339,
     "end_time": "2022-01-28T00:15:28.395079",
     "exception": false,
     "start_time": "2022-01-28T00:15:28.331740",
     "status": "completed"
    },
    "tags": []
   },
   "outputs": [
    {
     "data": {
      "text/html": [
       "<div>\n",
       "<style scoped>\n",
       "    .dataframe tbody tr th:only-of-type {\n",
       "        vertical-align: middle;\n",
       "    }\n",
       "\n",
       "    .dataframe tbody tr th {\n",
       "        vertical-align: top;\n",
       "    }\n",
       "\n",
       "    .dataframe thead th {\n",
       "        text-align: right;\n",
       "    }\n",
       "</style>\n",
       "<table border=\"1\" class=\"dataframe\">\n",
       "  <thead>\n",
       "    <tr style=\"text-align: right;\">\n",
       "      <th></th>\n",
       "      <th>Código NIF</th>\n",
       "      <th>Nombre</th>\n",
       "      <th>ebit 2019</th>\n",
       "      <th>ebit 2018</th>\n",
       "      <th>ebit 2017</th>\n",
       "      <th>deuda_c/p 2019</th>\n",
       "      <th>deuda_c/p 2018</th>\n",
       "      <th>deuda_c/p 2017</th>\n",
       "      <th>deuda_c/p 2016</th>\n",
       "      <th>deuda_con_grupo_c/p 2019</th>\n",
       "      <th>...</th>\n",
       "      <th>drt_lp 2019</th>\n",
       "      <th>drt_lp 2018</th>\n",
       "      <th>drt_lp 2017</th>\n",
       "      <th>drt_lp 2016</th>\n",
       "      <th>drt 2019</th>\n",
       "      <th>drt 2018</th>\n",
       "      <th>r 2019</th>\n",
       "      <th>r* 2019</th>\n",
       "      <th>r* 2018</th>\n",
       "      <th>r* 2017</th>\n",
       "    </tr>\n",
       "  </thead>\n",
       "  <tbody>\n",
       "    <tr>\n",
       "      <th>0</th>\n",
       "      <td>A01045772</td>\n",
       "      <td>BAR RESTAURANTE LOS GUARANIS SA</td>\n",
       "      <td>-5106.77</td>\n",
       "      <td>-36794.05</td>\n",
       "      <td>-14717.25</td>\n",
       "      <td>8500</td>\n",
       "      <td>2123.97</td>\n",
       "      <td>1146.18</td>\n",
       "      <td>8938.08</td>\n",
       "      <td>n.d.</td>\n",
       "      <td>...</td>\n",
       "      <td>8376.42</td>\n",
       "      <td>25335.05</td>\n",
       "      <td>33564.50</td>\n",
       "      <td>33670.97</td>\n",
       "      <td>16876.42</td>\n",
       "      <td>27459.02</td>\n",
       "      <td>0.082763</td>\n",
       "      <td>1140.426100</td>\n",
       "      <td>1716.775927</td>\n",
       "      <td>2190.069149</td>\n",
       "    </tr>\n",
       "    <tr>\n",
       "      <th>1</th>\n",
       "      <td>A01104157</td>\n",
       "      <td>EXPLOTACIONES SUBIJANA DE ALAVA SA</td>\n",
       "      <td>979628.32</td>\n",
       "      <td>1131808.94</td>\n",
       "      <td>841951.59</td>\n",
       "      <td>1259167.65</td>\n",
       "      <td>1802709.72</td>\n",
       "      <td>1615663.79</td>\n",
       "      <td>846415.71</td>\n",
       "      <td>n.d.</td>\n",
       "      <td>...</td>\n",
       "      <td>13590231.27</td>\n",
       "      <td>8672240.51</td>\n",
       "      <td>9149877.46</td>\n",
       "      <td>10377394.89</td>\n",
       "      <td>14849398.92</td>\n",
       "      <td>10474950.23</td>\n",
       "      <td>0.015014</td>\n",
       "      <td>241234.029041</td>\n",
       "      <td>288330.033113</td>\n",
       "      <td>352636.517360</td>\n",
       "    </tr>\n",
       "    <tr>\n",
       "      <th>2</th>\n",
       "      <td>A01280577</td>\n",
       "      <td>BIASTERI TURISMO SA</td>\n",
       "      <td>209594.38</td>\n",
       "      <td>121434.18</td>\n",
       "      <td>178080.51</td>\n",
       "      <td>333764.6</td>\n",
       "      <td>743774.29</td>\n",
       "      <td>714753.39</td>\n",
       "      <td>557864.83</td>\n",
       "      <td>n.d.</td>\n",
       "      <td>...</td>\n",
       "      <td>2785539.59</td>\n",
       "      <td>2030134.58</td>\n",
       "      <td>2253090.37</td>\n",
       "      <td>2553240.82</td>\n",
       "      <td>3119304.19</td>\n",
       "      <td>2773908.87</td>\n",
       "      <td>0.060682</td>\n",
       "      <td>61317.770542</td>\n",
       "      <td>76448.515690</td>\n",
       "      <td>93355.657730</td>\n",
       "    </tr>\n",
       "    <tr>\n",
       "      <th>3</th>\n",
       "      <td>A02003663</td>\n",
       "      <td>HOTELES Y EDIFICIOS, SA</td>\n",
       "      <td>233388.3</td>\n",
       "      <td>172710.84</td>\n",
       "      <td>144877.19</td>\n",
       "      <td>n.d.</td>\n",
       "      <td>20972.88</td>\n",
       "      <td>100819.62</td>\n",
       "      <td>100027.24</td>\n",
       "      <td>n.d.</td>\n",
       "      <td>...</td>\n",
       "      <td>826344.39</td>\n",
       "      <td>843899.78</td>\n",
       "      <td>870238.02</td>\n",
       "      <td>977568.56</td>\n",
       "      <td>826344.39</td>\n",
       "      <td>864872.66</td>\n",
       "      <td>0.023516</td>\n",
       "      <td>26364.770007</td>\n",
       "      <td>35039.567386</td>\n",
       "      <td>46282.233776</td>\n",
       "    </tr>\n",
       "    <tr>\n",
       "      <th>4</th>\n",
       "      <td>A02021574</td>\n",
       "      <td>HOTELES DE LA MANCHA SA</td>\n",
       "      <td>-11767.78</td>\n",
       "      <td>-89182.46</td>\n",
       "      <td>-119563.75</td>\n",
       "      <td>498100.37</td>\n",
       "      <td>464668.44</td>\n",
       "      <td>447806.23</td>\n",
       "      <td>416079.41</td>\n",
       "      <td>n.d.</td>\n",
       "      <td>...</td>\n",
       "      <td>1461092.81</td>\n",
       "      <td>1666090.97</td>\n",
       "      <td>1698952.54</td>\n",
       "      <td>1680491.83</td>\n",
       "      <td>1959193.18</td>\n",
       "      <td>2130759.41</td>\n",
       "      <td>0.003723</td>\n",
       "      <td>48061.720945</td>\n",
       "      <td>56122.346605</td>\n",
       "      <td>62367.107380</td>\n",
       "    </tr>\n",
       "  </tbody>\n",
       "</table>\n",
       "<p>5 rows × 36 columns</p>\n",
       "</div>"
      ],
      "text/plain": [
       "  Código NIF                              Nombre  ebit 2019   ebit 2018  \\\n",
       "0  A01045772     BAR RESTAURANTE LOS GUARANIS SA   -5106.77   -36794.05   \n",
       "1  A01104157  EXPLOTACIONES SUBIJANA DE ALAVA SA  979628.32  1131808.94   \n",
       "2  A01280577                 BIASTERI TURISMO SA  209594.38   121434.18   \n",
       "3  A02003663             HOTELES Y EDIFICIOS, SA   233388.3   172710.84   \n",
       "4  A02021574             HOTELES DE LA MANCHA SA  -11767.78   -89182.46   \n",
       "\n",
       "   ebit 2017 deuda_c/p 2019 deuda_c/p 2018 deuda_c/p 2017 deuda_c/p 2016  \\\n",
       "0  -14717.25           8500        2123.97        1146.18        8938.08   \n",
       "1  841951.59     1259167.65     1802709.72     1615663.79      846415.71   \n",
       "2  178080.51       333764.6      743774.29      714753.39      557864.83   \n",
       "3  144877.19           n.d.       20972.88      100819.62      100027.24   \n",
       "4 -119563.75      498100.37      464668.44      447806.23      416079.41   \n",
       "\n",
       "  deuda_con_grupo_c/p 2019  ...  drt_lp 2019 drt_lp 2018 drt_lp 2017  \\\n",
       "0                     n.d.  ...      8376.42    25335.05    33564.50   \n",
       "1                     n.d.  ...  13590231.27  8672240.51  9149877.46   \n",
       "2                     n.d.  ...   2785539.59  2030134.58  2253090.37   \n",
       "3                     n.d.  ...    826344.39   843899.78   870238.02   \n",
       "4                     n.d.  ...   1461092.81  1666090.97  1698952.54   \n",
       "\n",
       "   drt_lp 2016     drt 2019     drt 2018    r 2019        r* 2019  \\\n",
       "0     33670.97     16876.42     27459.02  0.082763    1140.426100   \n",
       "1  10377394.89  14849398.92  10474950.23  0.015014  241234.029041   \n",
       "2   2553240.82   3119304.19   2773908.87  0.060682   61317.770542   \n",
       "3    977568.56    826344.39    864872.66  0.023516   26364.770007   \n",
       "4   1680491.83   1959193.18   2130759.41  0.003723   48061.720945   \n",
       "\n",
       "         r* 2018        r* 2017  \n",
       "0    1716.775927    2190.069149  \n",
       "1  288330.033113  352636.517360  \n",
       "2   76448.515690   93355.657730  \n",
       "3   35039.567386   46282.233776  \n",
       "4   56122.346605   62367.107380  \n",
       "\n",
       "[5 rows x 36 columns]"
      ]
     },
     "execution_count": 18,
     "metadata": {},
     "output_type": "execute_result"
    }
   ],
   "source": [
    "sme.head()"
   ]
  },
  {
   "cell_type": "markdown",
   "id": "9626f6d2",
   "metadata": {
    "papermill": {
     "duration": 0.038797,
     "end_time": "2022-01-28T00:15:28.472557",
     "exception": false,
     "start_time": "2022-01-28T00:15:28.433760",
     "status": "completed"
    },
    "tags": []
   },
   "source": [
    "Se define la función ***detectZombieFirms(ebit, min_interest_payment, r_2019, drt_2019, drt_2018):*** que devuelve un 1 si la empresa cumple con las condiciones para ser considerada zombi y un 0 cuando no las cumple."
   ]
  },
  {
   "cell_type": "code",
   "execution_count": 19,
   "id": "c74594e4",
   "metadata": {
    "execution": {
     "iopub.execute_input": "2022-01-28T00:15:28.557230Z",
     "iopub.status.busy": "2022-01-28T00:15:28.556697Z",
     "iopub.status.idle": "2022-01-28T00:15:28.560449Z",
     "shell.execute_reply": "2022-01-28T00:15:28.560012Z",
     "shell.execute_reply.started": "2022-01-28T00:07:40.380920Z"
    },
    "papermill": {
     "duration": 0.049249,
     "end_time": "2022-01-28T00:15:28.560567",
     "exception": false,
     "start_time": "2022-01-28T00:15:28.511318",
     "status": "completed"
    },
    "tags": []
   },
   "outputs": [],
   "source": [
    "def detectZombieFirms(ebit, min_interest_payment, r_2019, drt_2019, drt_2018):\n",
    "    for i in range(0,3):\n",
    "        if ebit[i] - min_interest_payment[i] > 0:\n",
    "            return 0\n",
    "    if drt_2019 > drt_2018: return 1\n",
    "    elif min_interest_payment[0] != 0 and r_2019 < min_interest_payment[0]/drt_2018:\n",
    "        return 1\n",
    "    else: return 0"
   ]
  },
  {
   "cell_type": "markdown",
   "id": "df9f97ae",
   "metadata": {
    "papermill": {
     "duration": 0.041047,
     "end_time": "2022-01-28T00:15:28.642374",
     "exception": false,
     "start_time": "2022-01-28T00:15:28.601327",
     "status": "completed"
    },
    "tags": []
   },
   "source": [
    "Se calcula la etiqueta para cada una de las pymes disponibles en el dataframe: **sme**"
   ]
  },
  {
   "cell_type": "code",
   "execution_count": 20,
   "id": "c056ce48",
   "metadata": {
    "execution": {
     "iopub.execute_input": "2022-01-28T00:15:28.728984Z",
     "iopub.status.busy": "2022-01-28T00:15:28.728127Z",
     "iopub.status.idle": "2022-01-28T00:15:29.170113Z",
     "shell.execute_reply": "2022-01-28T00:15:29.168928Z",
     "shell.execute_reply.started": "2022-01-28T00:07:46.369382Z"
    },
    "papermill": {
     "duration": 0.486809,
     "end_time": "2022-01-28T00:15:29.170265",
     "exception": false,
     "start_time": "2022-01-28T00:15:28.683456",
     "status": "completed"
    },
    "tags": []
   },
   "outputs": [],
   "source": [
    "sme['zombi'] = sme.apply(lambda row: detectZombieFirms([row['ebit 2019'], row['ebit 2018'], row['ebit 2017']],\n",
    "                                                          [row['r* 2019'], row['r* 2018'], row['r* 2017']], row['r 2019'],\n",
    "                                                          row['drt 2019'], row['drt 2018']), axis=1)"
   ]
  },
  {
   "cell_type": "code",
   "execution_count": 21,
   "id": "ae9fbb30",
   "metadata": {
    "execution": {
     "iopub.execute_input": "2022-01-28T00:15:29.274090Z",
     "iopub.status.busy": "2022-01-28T00:15:29.273300Z",
     "iopub.status.idle": "2022-01-28T00:15:29.276315Z",
     "shell.execute_reply": "2022-01-28T00:15:29.276740Z",
     "shell.execute_reply.started": "2022-01-28T00:07:49.606245Z"
    },
    "papermill": {
     "duration": 0.067249,
     "end_time": "2022-01-28T00:15:29.276891",
     "exception": false,
     "start_time": "2022-01-28T00:15:29.209642",
     "status": "completed"
    },
    "tags": []
   },
   "outputs": [
    {
     "data": {
      "text/html": [
       "<div>\n",
       "<style scoped>\n",
       "    .dataframe tbody tr th:only-of-type {\n",
       "        vertical-align: middle;\n",
       "    }\n",
       "\n",
       "    .dataframe tbody tr th {\n",
       "        vertical-align: top;\n",
       "    }\n",
       "\n",
       "    .dataframe thead th {\n",
       "        text-align: right;\n",
       "    }\n",
       "</style>\n",
       "<table border=\"1\" class=\"dataframe\">\n",
       "  <thead>\n",
       "    <tr style=\"text-align: right;\">\n",
       "      <th></th>\n",
       "      <th>Código NIF</th>\n",
       "      <th>Nombre</th>\n",
       "      <th>ebit 2019</th>\n",
       "      <th>ebit 2018</th>\n",
       "      <th>ebit 2017</th>\n",
       "      <th>deuda_c/p 2019</th>\n",
       "      <th>deuda_c/p 2018</th>\n",
       "      <th>deuda_c/p 2017</th>\n",
       "      <th>deuda_c/p 2016</th>\n",
       "      <th>deuda_con_grupo_c/p 2019</th>\n",
       "      <th>...</th>\n",
       "      <th>drt_lp 2018</th>\n",
       "      <th>drt_lp 2017</th>\n",
       "      <th>drt_lp 2016</th>\n",
       "      <th>drt 2019</th>\n",
       "      <th>drt 2018</th>\n",
       "      <th>r 2019</th>\n",
       "      <th>r* 2019</th>\n",
       "      <th>r* 2018</th>\n",
       "      <th>r* 2017</th>\n",
       "      <th>zombi</th>\n",
       "    </tr>\n",
       "  </thead>\n",
       "  <tbody>\n",
       "    <tr>\n",
       "      <th>0</th>\n",
       "      <td>A01045772</td>\n",
       "      <td>BAR RESTAURANTE LOS GUARANIS SA</td>\n",
       "      <td>-5106.77</td>\n",
       "      <td>-36794.05</td>\n",
       "      <td>-14717.25</td>\n",
       "      <td>8500</td>\n",
       "      <td>2123.97</td>\n",
       "      <td>1146.18</td>\n",
       "      <td>8938.08</td>\n",
       "      <td>n.d.</td>\n",
       "      <td>...</td>\n",
       "      <td>25335.05</td>\n",
       "      <td>33564.50</td>\n",
       "      <td>33670.97</td>\n",
       "      <td>16876.42</td>\n",
       "      <td>27459.02</td>\n",
       "      <td>0.082763</td>\n",
       "      <td>1140.426100</td>\n",
       "      <td>1716.775927</td>\n",
       "      <td>2190.069149</td>\n",
       "      <td>0</td>\n",
       "    </tr>\n",
       "    <tr>\n",
       "      <th>1</th>\n",
       "      <td>A01104157</td>\n",
       "      <td>EXPLOTACIONES SUBIJANA DE ALAVA SA</td>\n",
       "      <td>979628.32</td>\n",
       "      <td>1131808.94</td>\n",
       "      <td>841951.59</td>\n",
       "      <td>1259167.65</td>\n",
       "      <td>1802709.72</td>\n",
       "      <td>1615663.79</td>\n",
       "      <td>846415.71</td>\n",
       "      <td>n.d.</td>\n",
       "      <td>...</td>\n",
       "      <td>8672240.51</td>\n",
       "      <td>9149877.46</td>\n",
       "      <td>10377394.89</td>\n",
       "      <td>14849398.92</td>\n",
       "      <td>10474950.23</td>\n",
       "      <td>0.015014</td>\n",
       "      <td>241234.029041</td>\n",
       "      <td>288330.033113</td>\n",
       "      <td>352636.517360</td>\n",
       "      <td>0</td>\n",
       "    </tr>\n",
       "    <tr>\n",
       "      <th>2</th>\n",
       "      <td>A01280577</td>\n",
       "      <td>BIASTERI TURISMO SA</td>\n",
       "      <td>209594.38</td>\n",
       "      <td>121434.18</td>\n",
       "      <td>178080.51</td>\n",
       "      <td>333764.6</td>\n",
       "      <td>743774.29</td>\n",
       "      <td>714753.39</td>\n",
       "      <td>557864.83</td>\n",
       "      <td>n.d.</td>\n",
       "      <td>...</td>\n",
       "      <td>2030134.58</td>\n",
       "      <td>2253090.37</td>\n",
       "      <td>2553240.82</td>\n",
       "      <td>3119304.19</td>\n",
       "      <td>2773908.87</td>\n",
       "      <td>0.060682</td>\n",
       "      <td>61317.770542</td>\n",
       "      <td>76448.515690</td>\n",
       "      <td>93355.657730</td>\n",
       "      <td>0</td>\n",
       "    </tr>\n",
       "    <tr>\n",
       "      <th>3</th>\n",
       "      <td>A02003663</td>\n",
       "      <td>HOTELES Y EDIFICIOS, SA</td>\n",
       "      <td>233388.3</td>\n",
       "      <td>172710.84</td>\n",
       "      <td>144877.19</td>\n",
       "      <td>n.d.</td>\n",
       "      <td>20972.88</td>\n",
       "      <td>100819.62</td>\n",
       "      <td>100027.24</td>\n",
       "      <td>n.d.</td>\n",
       "      <td>...</td>\n",
       "      <td>843899.78</td>\n",
       "      <td>870238.02</td>\n",
       "      <td>977568.56</td>\n",
       "      <td>826344.39</td>\n",
       "      <td>864872.66</td>\n",
       "      <td>0.023516</td>\n",
       "      <td>26364.770007</td>\n",
       "      <td>35039.567386</td>\n",
       "      <td>46282.233776</td>\n",
       "      <td>0</td>\n",
       "    </tr>\n",
       "    <tr>\n",
       "      <th>4</th>\n",
       "      <td>A02021574</td>\n",
       "      <td>HOTELES DE LA MANCHA SA</td>\n",
       "      <td>-11767.78</td>\n",
       "      <td>-89182.46</td>\n",
       "      <td>-119563.75</td>\n",
       "      <td>498100.37</td>\n",
       "      <td>464668.44</td>\n",
       "      <td>447806.23</td>\n",
       "      <td>416079.41</td>\n",
       "      <td>n.d.</td>\n",
       "      <td>...</td>\n",
       "      <td>1666090.97</td>\n",
       "      <td>1698952.54</td>\n",
       "      <td>1680491.83</td>\n",
       "      <td>1959193.18</td>\n",
       "      <td>2130759.41</td>\n",
       "      <td>0.003723</td>\n",
       "      <td>48061.720945</td>\n",
       "      <td>56122.346605</td>\n",
       "      <td>62367.107380</td>\n",
       "      <td>1</td>\n",
       "    </tr>\n",
       "    <tr>\n",
       "      <th>5</th>\n",
       "      <td>A02113066</td>\n",
       "      <td>HOTEL YESTE SA</td>\n",
       "      <td>1894.48</td>\n",
       "      <td>10578.8</td>\n",
       "      <td>13132.11</td>\n",
       "      <td>n.d.</td>\n",
       "      <td>n.d.</td>\n",
       "      <td>436</td>\n",
       "      <td>3375.81</td>\n",
       "      <td>6500</td>\n",
       "      <td>...</td>\n",
       "      <td>304396.72</td>\n",
       "      <td>319362.80</td>\n",
       "      <td>344178.96</td>\n",
       "      <td>279962.21</td>\n",
       "      <td>310896.72</td>\n",
       "      <td>0.000782</td>\n",
       "      <td>9487.339716</td>\n",
       "      <td>12128.326410</td>\n",
       "      <td>15554.919010</td>\n",
       "      <td>1</td>\n",
       "    </tr>\n",
       "    <tr>\n",
       "      <th>6</th>\n",
       "      <td>A02113397</td>\n",
       "      <td>TRIGA SA</td>\n",
       "      <td>539305.63</td>\n",
       "      <td>435480.71</td>\n",
       "      <td>170798.23</td>\n",
       "      <td>733424.46</td>\n",
       "      <td>668375.65</td>\n",
       "      <td>569347.49</td>\n",
       "      <td>590439.52</td>\n",
       "      <td>n.d.</td>\n",
       "      <td>...</td>\n",
       "      <td>0.00</td>\n",
       "      <td>0.00</td>\n",
       "      <td>0.00</td>\n",
       "      <td>733424.46</td>\n",
       "      <td>668375.65</td>\n",
       "      <td>0.008707</td>\n",
       "      <td>10367.620291</td>\n",
       "      <td>9518.541120</td>\n",
       "      <td>11135.197314</td>\n",
       "      <td>0</td>\n",
       "    </tr>\n",
       "  </tbody>\n",
       "</table>\n",
       "<p>7 rows × 37 columns</p>\n",
       "</div>"
      ],
      "text/plain": [
       "  Código NIF                              Nombre  ebit 2019   ebit 2018  \\\n",
       "0  A01045772     BAR RESTAURANTE LOS GUARANIS SA   -5106.77   -36794.05   \n",
       "1  A01104157  EXPLOTACIONES SUBIJANA DE ALAVA SA  979628.32  1131808.94   \n",
       "2  A01280577                 BIASTERI TURISMO SA  209594.38   121434.18   \n",
       "3  A02003663             HOTELES Y EDIFICIOS, SA   233388.3   172710.84   \n",
       "4  A02021574             HOTELES DE LA MANCHA SA  -11767.78   -89182.46   \n",
       "5  A02113066                      HOTEL YESTE SA    1894.48     10578.8   \n",
       "6  A02113397                            TRIGA SA  539305.63   435480.71   \n",
       "\n",
       "   ebit 2017 deuda_c/p 2019 deuda_c/p 2018 deuda_c/p 2017 deuda_c/p 2016  \\\n",
       "0  -14717.25           8500        2123.97        1146.18        8938.08   \n",
       "1  841951.59     1259167.65     1802709.72     1615663.79      846415.71   \n",
       "2  178080.51       333764.6      743774.29      714753.39      557864.83   \n",
       "3  144877.19           n.d.       20972.88      100819.62      100027.24   \n",
       "4 -119563.75      498100.37      464668.44      447806.23      416079.41   \n",
       "5   13132.11           n.d.           n.d.            436        3375.81   \n",
       "6  170798.23      733424.46      668375.65      569347.49      590439.52   \n",
       "\n",
       "  deuda_con_grupo_c/p 2019  ... drt_lp 2018 drt_lp 2017  drt_lp 2016  \\\n",
       "0                     n.d.  ...    25335.05    33564.50     33670.97   \n",
       "1                     n.d.  ...  8672240.51  9149877.46  10377394.89   \n",
       "2                     n.d.  ...  2030134.58  2253090.37   2553240.82   \n",
       "3                     n.d.  ...   843899.78   870238.02    977568.56   \n",
       "4                     n.d.  ...  1666090.97  1698952.54   1680491.83   \n",
       "5                     6500  ...   304396.72   319362.80    344178.96   \n",
       "6                     n.d.  ...        0.00        0.00         0.00   \n",
       "\n",
       "      drt 2019     drt 2018    r 2019        r* 2019        r* 2018  \\\n",
       "0     16876.42     27459.02  0.082763    1140.426100    1716.775927   \n",
       "1  14849398.92  10474950.23  0.015014  241234.029041  288330.033113   \n",
       "2   3119304.19   2773908.87  0.060682   61317.770542   76448.515690   \n",
       "3    826344.39    864872.66  0.023516   26364.770007   35039.567386   \n",
       "4   1959193.18   2130759.41  0.003723   48061.720945   56122.346605   \n",
       "5    279962.21    310896.72  0.000782    9487.339716   12128.326410   \n",
       "6    733424.46    668375.65  0.008707   10367.620291    9518.541120   \n",
       "\n",
       "         r* 2017 zombi  \n",
       "0    2190.069149     0  \n",
       "1  352636.517360     0  \n",
       "2   93355.657730     0  \n",
       "3   46282.233776     0  \n",
       "4   62367.107380     1  \n",
       "5   15554.919010     1  \n",
       "6   11135.197314     0  \n",
       "\n",
       "[7 rows x 37 columns]"
      ]
     },
     "execution_count": 21,
     "metadata": {},
     "output_type": "execute_result"
    }
   ],
   "source": [
    "sme.head(7)"
   ]
  },
  {
   "cell_type": "markdown",
   "id": "68c27489",
   "metadata": {
    "papermill": {
     "duration": 0.03994,
     "end_time": "2022-01-28T00:15:29.357719",
     "exception": false,
     "start_time": "2022-01-28T00:15:29.317779",
     "status": "completed"
    },
    "tags": []
   },
   "source": [
    "A continuación, se visualizan el número de pymes zombis identificadas por el criterio principal del estudio"
   ]
  },
  {
   "cell_type": "code",
   "execution_count": 22,
   "id": "310b7413",
   "metadata": {
    "execution": {
     "iopub.execute_input": "2022-01-28T00:15:29.446031Z",
     "iopub.status.busy": "2022-01-28T00:15:29.444626Z",
     "iopub.status.idle": "2022-01-28T00:15:29.454228Z",
     "shell.execute_reply": "2022-01-28T00:15:29.454849Z",
     "shell.execute_reply.started": "2022-01-28T00:07:59.261688Z"
    },
    "papermill": {
     "duration": 0.056928,
     "end_time": "2022-01-28T00:15:29.455050",
     "exception": false,
     "start_time": "2022-01-28T00:15:29.398122",
     "status": "completed"
    },
    "tags": []
   },
   "outputs": [
    {
     "name": "stdout",
     "output_type": "stream",
     "text": [
      "Pymes Totales: 9204\n",
      "Pymes Zombi: 753\n",
      "Pymes No Zombi: 8451\n"
     ]
    }
   ],
   "source": [
    "print(\"Pymes Totales:\", sme.shape[0])\n",
    "print(\"Pymes Zombi:\", len(sme.loc[sme['zombi'] == 1]))\n",
    "print(\"Pymes No Zombi:\", len(sme.loc[sme['zombi'] == 0]))"
   ]
  },
  {
   "cell_type": "markdown",
   "id": "28d188e6",
   "metadata": {
    "papermill": {
     "duration": 0.040144,
     "end_time": "2022-01-28T00:15:29.536505",
     "exception": false,
     "start_time": "2022-01-28T00:15:29.496361",
     "status": "completed"
    },
    "tags": []
   },
   "source": [
    "Finalmente, se guardan en dos Excel separados, los NIF's y nombres de las pymes zombis y no zombis que se utilizarán para la extracción de las variables de la sección **6.2.2**."
   ]
  },
  {
   "cell_type": "code",
   "execution_count": 23,
   "id": "4a50e145",
   "metadata": {
    "execution": {
     "iopub.execute_input": "2022-01-28T00:15:29.702196Z",
     "iopub.status.busy": "2022-01-28T00:15:29.701264Z",
     "iopub.status.idle": "2022-01-28T00:15:30.456931Z",
     "shell.execute_reply": "2022-01-28T00:15:30.456374Z",
     "shell.execute_reply.started": "2022-01-28T00:08:37.545075Z"
    },
    "papermill": {
     "duration": 0.857472,
     "end_time": "2022-01-28T00:15:30.457066",
     "exception": false,
     "start_time": "2022-01-28T00:15:29.599594",
     "status": "completed"
    },
    "tags": []
   },
   "outputs": [],
   "source": [
    "sme_zombis = sme.loc[sme['zombi'] == 1, ['Código NIF', 'Nombre']]\n",
    "sme_no_zombis = sme.loc[sme['zombi'] == 0, ['Código NIF', 'Nombre']]\n",
    "sme_zombis.to_excel('./pymes_zombis.xlsx', index=False)\n",
    "sme_no_zombis.to_excel('./pymes_no_zombis.xlsx', index=False)"
   ]
  },
  {
   "cell_type": "markdown",
   "id": "9db8ff10",
   "metadata": {
    "papermill": {
     "duration": 0.039666,
     "end_time": "2022-01-28T00:15:30.537306",
     "exception": false,
     "start_time": "2022-01-28T00:15:30.497640",
     "status": "completed"
    },
    "tags": []
   },
   "source": [
    "Se guardan los códigos NIF de las empresas zombis identificadas con el primer criterio para posteriormente comparar el grado de semejanza de ambos criterios."
   ]
  },
  {
   "cell_type": "code",
   "execution_count": 24,
   "id": "f3ff3824",
   "metadata": {
    "execution": {
     "iopub.execute_input": "2022-01-28T00:15:30.623643Z",
     "iopub.status.busy": "2022-01-28T00:15:30.622963Z",
     "iopub.status.idle": "2022-01-28T00:15:30.625618Z",
     "shell.execute_reply": "2022-01-28T00:15:30.626032Z",
     "shell.execute_reply.started": "2022-01-28T00:09:09.144490Z"
    },
    "papermill": {
     "duration": 0.048746,
     "end_time": "2022-01-28T00:15:30.626166",
     "exception": false,
     "start_time": "2022-01-28T00:15:30.577420",
     "status": "completed"
    },
    "tags": []
   },
   "outputs": [
    {
     "data": {
      "text/plain": [
       "['A02021574', 'A02113066', 'A03358744', 'A03462272', 'A04102547']"
      ]
     },
     "execution_count": 24,
     "metadata": {},
     "output_type": "execute_result"
    }
   ],
   "source": [
    "zombies_nif_1 = list(sme_zombis['Código NIF'])\n",
    "zombies_nif_1[0:5]"
   ]
  },
  {
   "cell_type": "markdown",
   "id": "7ecb0ebe",
   "metadata": {
    "papermill": {
     "duration": 0.039896,
     "end_time": "2022-01-28T00:15:30.706270",
     "exception": false,
     "start_time": "2022-01-28T00:15:30.666374",
     "status": "completed"
    },
    "tags": []
   },
   "source": [
    "## Identificación de las pymes zombis españolas: Criterio alternativo"
   ]
  },
  {
   "cell_type": "markdown",
   "id": "e0e7dee3",
   "metadata": {
    "papermill": {
     "duration": 0.039765,
     "end_time": "2022-01-28T00:15:30.785999",
     "exception": false,
     "start_time": "2022-01-28T00:15:30.746234",
     "status": "completed"
    },
    "tags": []
   },
   "source": [
    "Este **segundo criterio** difiere del principal del estudio, en que para el cálculo de R* no se considera una media de los intereses medios anuales a largo plazo de los últimos cinco años, sino que se toma directamente el interés medio anual a largo plazo del periodo inmediatamente anterior. Es por dicha razón, que se sobrescribe el dataframe: **interest_rates** con estos nuevos tipos de intereses proporcionados también por el Banco de España.\n",
    "\n",
    "**SI SE EJECUTA ESTE NOTEBOOK EN LOCAL PUES SE DEBE CAMBIAR LA RUTA**"
   ]
  },
  {
   "cell_type": "code",
   "execution_count": 25,
   "id": "37f6d323",
   "metadata": {
    "execution": {
     "iopub.execute_input": "2022-01-28T00:15:30.870519Z",
     "iopub.status.busy": "2022-01-28T00:15:30.869936Z",
     "iopub.status.idle": "2022-01-28T00:15:30.904833Z",
     "shell.execute_reply": "2022-01-28T00:15:30.905599Z",
     "shell.execute_reply.started": "2022-01-28T00:10:50.046302Z"
    },
    "papermill": {
     "duration": 0.07961,
     "end_time": "2022-01-28T00:15:30.905740",
     "exception": false,
     "start_time": "2022-01-28T00:15:30.826130",
     "status": "completed"
    },
    "tags": []
   },
   "outputs": [
    {
     "data": {
      "text/html": [
       "<div>\n",
       "<style scoped>\n",
       "    .dataframe tbody tr th:only-of-type {\n",
       "        vertical-align: middle;\n",
       "    }\n",
       "\n",
       "    .dataframe tbody tr th {\n",
       "        vertical-align: top;\n",
       "    }\n",
       "\n",
       "    .dataframe thead th {\n",
       "        text-align: right;\n",
       "    }\n",
       "</style>\n",
       "<table border=\"1\" class=\"dataframe\">\n",
       "  <thead>\n",
       "    <tr style=\"text-align: right;\">\n",
       "      <th></th>\n",
       "      <th>Año</th>\n",
       "      <th>Créditos c/p ≤ 250.000 euros</th>\n",
       "      <th>250.000 &lt; Créditos c/p ≤ 1M euros</th>\n",
       "      <th>Créditos c/p &gt; 1M euros</th>\n",
       "      <th>Créditos l/p ≤ 250.000 euros</th>\n",
       "      <th>250.000 &lt; Créditos l/p ≤ 1M euros</th>\n",
       "      <th>Créditos l/p &gt; 1M euros</th>\n",
       "    </tr>\n",
       "  </thead>\n",
       "  <tbody>\n",
       "    <tr>\n",
       "      <th>0</th>\n",
       "      <td>2016</td>\n",
       "      <td>2.92000</td>\n",
       "      <td>1.885917</td>\n",
       "      <td>1.684083</td>\n",
       "      <td>3.003375</td>\n",
       "      <td>1.972000</td>\n",
       "      <td>1.681542</td>\n",
       "    </tr>\n",
       "    <tr>\n",
       "      <th>1</th>\n",
       "      <td>2017</td>\n",
       "      <td>2.43025</td>\n",
       "      <td>1.671833</td>\n",
       "      <td>1.633833</td>\n",
       "      <td>2.869708</td>\n",
       "      <td>1.893083</td>\n",
       "      <td>1.568542</td>\n",
       "    </tr>\n",
       "    <tr>\n",
       "      <th>2</th>\n",
       "      <td>2018</td>\n",
       "      <td>2.11250</td>\n",
       "      <td>1.551167</td>\n",
       "      <td>1.585583</td>\n",
       "      <td>2.855500</td>\n",
       "      <td>1.669875</td>\n",
       "      <td>1.488250</td>\n",
       "    </tr>\n",
       "    <tr>\n",
       "      <th>3</th>\n",
       "      <td>2019</td>\n",
       "      <td>1.98075</td>\n",
       "      <td>1.495833</td>\n",
       "      <td>1.469667</td>\n",
       "      <td>2.852500</td>\n",
       "      <td>1.619958</td>\n",
       "      <td>1.445625</td>\n",
       "    </tr>\n",
       "  </tbody>\n",
       "</table>\n",
       "</div>"
      ],
      "text/plain": [
       "    Año  Créditos c/p ≤ 250.000 euros  250.000 < Créditos c/p ≤ 1M euros  \\\n",
       "0  2016                       2.92000                           1.885917   \n",
       "1  2017                       2.43025                           1.671833   \n",
       "2  2018                       2.11250                           1.551167   \n",
       "3  2019                       1.98075                           1.495833   \n",
       "\n",
       "   Créditos c/p > 1M euros  Créditos l/p ≤ 250.000 euros  \\\n",
       "0                 1.684083                      3.003375   \n",
       "1                 1.633833                      2.869708   \n",
       "2                 1.585583                      2.855500   \n",
       "3                 1.469667                      2.852500   \n",
       "\n",
       "   250.000 < Créditos l/p ≤ 1M euros  Créditos l/p > 1M euros  \n",
       "0                           1.972000                 1.681542  \n",
       "1                           1.893083                 1.568542  \n",
       "2                           1.669875                 1.488250  \n",
       "3                           1.619958                 1.445625  "
      ]
     },
     "execution_count": 25,
     "metadata": {},
     "output_type": "execute_result"
    }
   ],
   "source": [
    "interest_rates = pd.read_excel('../input/datos-notebook-1/tipos_intereses.xlsx', \"tipos_criterio_2\")\n",
    "interest_rates"
   ]
  },
  {
   "cell_type": "markdown",
   "id": "d228a9ad",
   "metadata": {
    "papermill": {
     "duration": 0.040128,
     "end_time": "2022-01-28T00:15:30.986491",
     "exception": false,
     "start_time": "2022-01-28T00:15:30.946363",
     "status": "completed"
    },
    "tags": []
   },
   "source": [
    "Se eliminan las columnas de R* y zombi ya que se calcularán de nuevo con los tipos de intereses cargados en la celda anterior"
   ]
  },
  {
   "cell_type": "code",
   "execution_count": 26,
   "id": "cf58807f",
   "metadata": {
    "execution": {
     "iopub.execute_input": "2022-01-28T00:15:31.078096Z",
     "iopub.status.busy": "2022-01-28T00:15:31.073085Z",
     "iopub.status.idle": "2022-01-28T00:15:31.111580Z",
     "shell.execute_reply": "2022-01-28T00:15:31.111109Z",
     "shell.execute_reply.started": "2022-01-28T00:11:10.268308Z"
    },
    "papermill": {
     "duration": 0.084348,
     "end_time": "2022-01-28T00:15:31.111709",
     "exception": false,
     "start_time": "2022-01-28T00:15:31.027361",
     "status": "completed"
    },
    "tags": []
   },
   "outputs": [
    {
     "data": {
      "text/html": [
       "<div>\n",
       "<style scoped>\n",
       "    .dataframe tbody tr th:only-of-type {\n",
       "        vertical-align: middle;\n",
       "    }\n",
       "\n",
       "    .dataframe tbody tr th {\n",
       "        vertical-align: top;\n",
       "    }\n",
       "\n",
       "    .dataframe thead th {\n",
       "        text-align: right;\n",
       "    }\n",
       "</style>\n",
       "<table border=\"1\" class=\"dataframe\">\n",
       "  <thead>\n",
       "    <tr style=\"text-align: right;\">\n",
       "      <th></th>\n",
       "      <th>Código NIF</th>\n",
       "      <th>Nombre</th>\n",
       "      <th>ebit 2019</th>\n",
       "      <th>ebit 2018</th>\n",
       "      <th>ebit 2017</th>\n",
       "      <th>deuda_c/p 2019</th>\n",
       "      <th>deuda_c/p 2018</th>\n",
       "      <th>deuda_c/p 2017</th>\n",
       "      <th>deuda_c/p 2016</th>\n",
       "      <th>deuda_con_grupo_c/p 2019</th>\n",
       "      <th>...</th>\n",
       "      <th>drt_cp 2018</th>\n",
       "      <th>drt_cp 2017</th>\n",
       "      <th>drt_cp 2016</th>\n",
       "      <th>drt_lp 2019</th>\n",
       "      <th>drt_lp 2018</th>\n",
       "      <th>drt_lp 2017</th>\n",
       "      <th>drt_lp 2016</th>\n",
       "      <th>drt 2019</th>\n",
       "      <th>drt 2018</th>\n",
       "      <th>r 2019</th>\n",
       "    </tr>\n",
       "  </thead>\n",
       "  <tbody>\n",
       "    <tr>\n",
       "      <th>0</th>\n",
       "      <td>A01045772</td>\n",
       "      <td>BAR RESTAURANTE LOS GUARANIS SA</td>\n",
       "      <td>-5106.77</td>\n",
       "      <td>-36794.05</td>\n",
       "      <td>-14717.25</td>\n",
       "      <td>8500</td>\n",
       "      <td>2123.97</td>\n",
       "      <td>1146.18</td>\n",
       "      <td>8938.08</td>\n",
       "      <td>n.d.</td>\n",
       "      <td>...</td>\n",
       "      <td>2123.97</td>\n",
       "      <td>1146.18</td>\n",
       "      <td>8938.08</td>\n",
       "      <td>8376.42</td>\n",
       "      <td>25335.05</td>\n",
       "      <td>33564.50</td>\n",
       "      <td>33670.97</td>\n",
       "      <td>16876.42</td>\n",
       "      <td>27459.02</td>\n",
       "      <td>0.082763</td>\n",
       "    </tr>\n",
       "    <tr>\n",
       "      <th>1</th>\n",
       "      <td>A01104157</td>\n",
       "      <td>EXPLOTACIONES SUBIJANA DE ALAVA SA</td>\n",
       "      <td>979628.32</td>\n",
       "      <td>1131808.94</td>\n",
       "      <td>841951.59</td>\n",
       "      <td>1259167.65</td>\n",
       "      <td>1802709.72</td>\n",
       "      <td>1615663.79</td>\n",
       "      <td>846415.71</td>\n",
       "      <td>n.d.</td>\n",
       "      <td>...</td>\n",
       "      <td>1802709.72</td>\n",
       "      <td>1615663.79</td>\n",
       "      <td>846415.71</td>\n",
       "      <td>13590231.27</td>\n",
       "      <td>8672240.51</td>\n",
       "      <td>9149877.46</td>\n",
       "      <td>10377394.89</td>\n",
       "      <td>14849398.92</td>\n",
       "      <td>10474950.23</td>\n",
       "      <td>0.015014</td>\n",
       "    </tr>\n",
       "    <tr>\n",
       "      <th>2</th>\n",
       "      <td>A01280577</td>\n",
       "      <td>BIASTERI TURISMO SA</td>\n",
       "      <td>209594.38</td>\n",
       "      <td>121434.18</td>\n",
       "      <td>178080.51</td>\n",
       "      <td>333764.6</td>\n",
       "      <td>743774.29</td>\n",
       "      <td>714753.39</td>\n",
       "      <td>557864.83</td>\n",
       "      <td>n.d.</td>\n",
       "      <td>...</td>\n",
       "      <td>743774.29</td>\n",
       "      <td>714753.39</td>\n",
       "      <td>557864.83</td>\n",
       "      <td>2785539.59</td>\n",
       "      <td>2030134.58</td>\n",
       "      <td>2253090.37</td>\n",
       "      <td>2553240.82</td>\n",
       "      <td>3119304.19</td>\n",
       "      <td>2773908.87</td>\n",
       "      <td>0.060682</td>\n",
       "    </tr>\n",
       "    <tr>\n",
       "      <th>3</th>\n",
       "      <td>A02003663</td>\n",
       "      <td>HOTELES Y EDIFICIOS, SA</td>\n",
       "      <td>233388.3</td>\n",
       "      <td>172710.84</td>\n",
       "      <td>144877.19</td>\n",
       "      <td>n.d.</td>\n",
       "      <td>20972.88</td>\n",
       "      <td>100819.62</td>\n",
       "      <td>100027.24</td>\n",
       "      <td>n.d.</td>\n",
       "      <td>...</td>\n",
       "      <td>20972.88</td>\n",
       "      <td>100819.62</td>\n",
       "      <td>100027.24</td>\n",
       "      <td>826344.39</td>\n",
       "      <td>843899.78</td>\n",
       "      <td>870238.02</td>\n",
       "      <td>977568.56</td>\n",
       "      <td>826344.39</td>\n",
       "      <td>864872.66</td>\n",
       "      <td>0.023516</td>\n",
       "    </tr>\n",
       "    <tr>\n",
       "      <th>4</th>\n",
       "      <td>A02021574</td>\n",
       "      <td>HOTELES DE LA MANCHA SA</td>\n",
       "      <td>-11767.78</td>\n",
       "      <td>-89182.46</td>\n",
       "      <td>-119563.75</td>\n",
       "      <td>498100.37</td>\n",
       "      <td>464668.44</td>\n",
       "      <td>447806.23</td>\n",
       "      <td>416079.41</td>\n",
       "      <td>n.d.</td>\n",
       "      <td>...</td>\n",
       "      <td>464668.44</td>\n",
       "      <td>447806.23</td>\n",
       "      <td>416079.41</td>\n",
       "      <td>1461092.81</td>\n",
       "      <td>1666090.97</td>\n",
       "      <td>1698952.54</td>\n",
       "      <td>1680491.83</td>\n",
       "      <td>1959193.18</td>\n",
       "      <td>2130759.41</td>\n",
       "      <td>0.003723</td>\n",
       "    </tr>\n",
       "    <tr>\n",
       "      <th>...</th>\n",
       "      <td>...</td>\n",
       "      <td>...</td>\n",
       "      <td>...</td>\n",
       "      <td>...</td>\n",
       "      <td>...</td>\n",
       "      <td>...</td>\n",
       "      <td>...</td>\n",
       "      <td>...</td>\n",
       "      <td>...</td>\n",
       "      <td>...</td>\n",
       "      <td>...</td>\n",
       "      <td>...</td>\n",
       "      <td>...</td>\n",
       "      <td>...</td>\n",
       "      <td>...</td>\n",
       "      <td>...</td>\n",
       "      <td>...</td>\n",
       "      <td>...</td>\n",
       "      <td>...</td>\n",
       "      <td>...</td>\n",
       "      <td>...</td>\n",
       "    </tr>\n",
       "    <tr>\n",
       "      <th>9199</th>\n",
       "      <td>B99465692</td>\n",
       "      <td>HOSTELERA ZN30 SOCIEDAD LIMITADA.</td>\n",
       "      <td>8498.53</td>\n",
       "      <td>15012.04</td>\n",
       "      <td>13674.39</td>\n",
       "      <td>n.d.</td>\n",
       "      <td>16821.58</td>\n",
       "      <td>9326.49</td>\n",
       "      <td>2149.1</td>\n",
       "      <td>n.d.</td>\n",
       "      <td>...</td>\n",
       "      <td>16821.58</td>\n",
       "      <td>9326.49</td>\n",
       "      <td>2149.10</td>\n",
       "      <td>209309.61</td>\n",
       "      <td>274458.85</td>\n",
       "      <td>284028.83</td>\n",
       "      <td>286756.75</td>\n",
       "      <td>209309.61</td>\n",
       "      <td>291280.43</td>\n",
       "      <td>0.025195</td>\n",
       "    </tr>\n",
       "    <tr>\n",
       "      <th>9200</th>\n",
       "      <td>B99465932</td>\n",
       "      <td>TOP OF ROUSLAND SOCIEDAD LIMITADA.</td>\n",
       "      <td>-218173.64</td>\n",
       "      <td>-90294.6</td>\n",
       "      <td>-159608.07</td>\n",
       "      <td>n.d.</td>\n",
       "      <td>n.d.</td>\n",
       "      <td>97.1</td>\n",
       "      <td>n.d.</td>\n",
       "      <td>n.d.</td>\n",
       "      <td>...</td>\n",
       "      <td>0.00</td>\n",
       "      <td>97.10</td>\n",
       "      <td>0.00</td>\n",
       "      <td>0.00</td>\n",
       "      <td>408528.06</td>\n",
       "      <td>200240.82</td>\n",
       "      <td>116037.16</td>\n",
       "      <td>0.00</td>\n",
       "      <td>408528.06</td>\n",
       "      <td>0.001626</td>\n",
       "    </tr>\n",
       "    <tr>\n",
       "      <th>9201</th>\n",
       "      <td>B99470841</td>\n",
       "      <td>TARRACO GAVARRES SO FOOD SOCIEDAD LIMITADA.</td>\n",
       "      <td>247297.41</td>\n",
       "      <td>317916.51</td>\n",
       "      <td>489016.12</td>\n",
       "      <td>131051.56</td>\n",
       "      <td>127755.46</td>\n",
       "      <td>107869.82</td>\n",
       "      <td>n.d.</td>\n",
       "      <td>n.d.</td>\n",
       "      <td>...</td>\n",
       "      <td>127755.46</td>\n",
       "      <td>107869.82</td>\n",
       "      <td>0.00</td>\n",
       "      <td>778512.51</td>\n",
       "      <td>905247.20</td>\n",
       "      <td>1010515.85</td>\n",
       "      <td>1245038.17</td>\n",
       "      <td>909564.07</td>\n",
       "      <td>1033002.66</td>\n",
       "      <td>0.023870</td>\n",
       "    </tr>\n",
       "    <tr>\n",
       "      <th>9202</th>\n",
       "      <td>B99472052</td>\n",
       "      <td>PLAZA SITIOS 2017 SL.</td>\n",
       "      <td>143243.97</td>\n",
       "      <td>-50508.56</td>\n",
       "      <td>-198026.07</td>\n",
       "      <td>n.d.</td>\n",
       "      <td>19817.05</td>\n",
       "      <td>n.d.</td>\n",
       "      <td>n.d.</td>\n",
       "      <td>n.d.</td>\n",
       "      <td>...</td>\n",
       "      <td>19817.05</td>\n",
       "      <td>0.00</td>\n",
       "      <td>0.00</td>\n",
       "      <td>160757.33</td>\n",
       "      <td>122950.96</td>\n",
       "      <td>321994.16</td>\n",
       "      <td>228590.70</td>\n",
       "      <td>160757.33</td>\n",
       "      <td>142768.01</td>\n",
       "      <td>0.024934</td>\n",
       "    </tr>\n",
       "    <tr>\n",
       "      <th>9203</th>\n",
       "      <td>B99478596</td>\n",
       "      <td>ADA EBRO HOSTELERIA SOCIEDAD LIMITADA.</td>\n",
       "      <td>-60851.38</td>\n",
       "      <td>-92783.98</td>\n",
       "      <td>-109061.87</td>\n",
       "      <td>57074.68</td>\n",
       "      <td>39720.5</td>\n",
       "      <td>45083.18</td>\n",
       "      <td>189771</td>\n",
       "      <td>n.d.</td>\n",
       "      <td>...</td>\n",
       "      <td>39720.50</td>\n",
       "      <td>45083.18</td>\n",
       "      <td>189771.00</td>\n",
       "      <td>75950.18</td>\n",
       "      <td>117954.22</td>\n",
       "      <td>120437.11</td>\n",
       "      <td>0.00</td>\n",
       "      <td>133024.86</td>\n",
       "      <td>157674.72</td>\n",
       "      <td>0.003162</td>\n",
       "    </tr>\n",
       "  </tbody>\n",
       "</table>\n",
       "<p>9204 rows × 33 columns</p>\n",
       "</div>"
      ],
      "text/plain": [
       "     Código NIF                                       Nombre  ebit 2019  \\\n",
       "0     A01045772              BAR RESTAURANTE LOS GUARANIS SA   -5106.77   \n",
       "1     A01104157           EXPLOTACIONES SUBIJANA DE ALAVA SA  979628.32   \n",
       "2     A01280577                          BIASTERI TURISMO SA  209594.38   \n",
       "3     A02003663                      HOTELES Y EDIFICIOS, SA   233388.3   \n",
       "4     A02021574                      HOTELES DE LA MANCHA SA  -11767.78   \n",
       "...         ...                                          ...        ...   \n",
       "9199  B99465692            HOSTELERA ZN30 SOCIEDAD LIMITADA.    8498.53   \n",
       "9200  B99465932           TOP OF ROUSLAND SOCIEDAD LIMITADA. -218173.64   \n",
       "9201  B99470841  TARRACO GAVARRES SO FOOD SOCIEDAD LIMITADA.  247297.41   \n",
       "9202  B99472052                        PLAZA SITIOS 2017 SL.  143243.97   \n",
       "9203  B99478596       ADA EBRO HOSTELERIA SOCIEDAD LIMITADA.  -60851.38   \n",
       "\n",
       "       ebit 2018  ebit 2017 deuda_c/p 2019 deuda_c/p 2018 deuda_c/p 2017  \\\n",
       "0      -36794.05  -14717.25           8500        2123.97        1146.18   \n",
       "1     1131808.94  841951.59     1259167.65     1802709.72     1615663.79   \n",
       "2      121434.18  178080.51       333764.6      743774.29      714753.39   \n",
       "3      172710.84  144877.19           n.d.       20972.88      100819.62   \n",
       "4      -89182.46 -119563.75      498100.37      464668.44      447806.23   \n",
       "...          ...        ...            ...            ...            ...   \n",
       "9199    15012.04   13674.39           n.d.       16821.58        9326.49   \n",
       "9200    -90294.6 -159608.07           n.d.           n.d.           97.1   \n",
       "9201   317916.51  489016.12      131051.56      127755.46      107869.82   \n",
       "9202   -50508.56 -198026.07           n.d.       19817.05           n.d.   \n",
       "9203   -92783.98 -109061.87       57074.68        39720.5       45083.18   \n",
       "\n",
       "     deuda_c/p 2016 deuda_con_grupo_c/p 2019  ... drt_cp 2018 drt_cp 2017  \\\n",
       "0           8938.08                     n.d.  ...     2123.97     1146.18   \n",
       "1         846415.71                     n.d.  ...  1802709.72  1615663.79   \n",
       "2         557864.83                     n.d.  ...   743774.29   714753.39   \n",
       "3         100027.24                     n.d.  ...    20972.88   100819.62   \n",
       "4         416079.41                     n.d.  ...   464668.44   447806.23   \n",
       "...             ...                      ...  ...         ...         ...   \n",
       "9199         2149.1                     n.d.  ...    16821.58     9326.49   \n",
       "9200           n.d.                     n.d.  ...        0.00       97.10   \n",
       "9201           n.d.                     n.d.  ...   127755.46   107869.82   \n",
       "9202           n.d.                     n.d.  ...    19817.05        0.00   \n",
       "9203         189771                     n.d.  ...    39720.50    45083.18   \n",
       "\n",
       "     drt_cp 2016  drt_lp 2019 drt_lp 2018 drt_lp 2017  drt_lp 2016  \\\n",
       "0        8938.08      8376.42    25335.05    33564.50     33670.97   \n",
       "1      846415.71  13590231.27  8672240.51  9149877.46  10377394.89   \n",
       "2      557864.83   2785539.59  2030134.58  2253090.37   2553240.82   \n",
       "3      100027.24    826344.39   843899.78   870238.02    977568.56   \n",
       "4      416079.41   1461092.81  1666090.97  1698952.54   1680491.83   \n",
       "...          ...          ...         ...         ...          ...   \n",
       "9199     2149.10    209309.61   274458.85   284028.83    286756.75   \n",
       "9200        0.00         0.00   408528.06   200240.82    116037.16   \n",
       "9201        0.00    778512.51   905247.20  1010515.85   1245038.17   \n",
       "9202        0.00    160757.33   122950.96   321994.16    228590.70   \n",
       "9203   189771.00     75950.18   117954.22   120437.11         0.00   \n",
       "\n",
       "         drt 2019     drt 2018    r 2019  \n",
       "0        16876.42     27459.02  0.082763  \n",
       "1     14849398.92  10474950.23  0.015014  \n",
       "2      3119304.19   2773908.87  0.060682  \n",
       "3       826344.39    864872.66  0.023516  \n",
       "4      1959193.18   2130759.41  0.003723  \n",
       "...           ...          ...       ...  \n",
       "9199    209309.61    291280.43  0.025195  \n",
       "9200         0.00    408528.06  0.001626  \n",
       "9201    909564.07   1033002.66  0.023870  \n",
       "9202    160757.33    142768.01  0.024934  \n",
       "9203    133024.86    157674.72  0.003162  \n",
       "\n",
       "[9204 rows x 33 columns]"
      ]
     },
     "execution_count": 26,
     "metadata": {},
     "output_type": "execute_result"
    }
   ],
   "source": [
    "sme.drop(columns=['r* 2019', 'r* 2018', 'r* 2017', 'zombi'])"
   ]
  },
  {
   "cell_type": "markdown",
   "id": "88c163ed",
   "metadata": {
    "papermill": {
     "duration": 0.042194,
     "end_time": "2022-01-28T00:15:31.197538",
     "exception": false,
     "start_time": "2022-01-28T00:15:31.155344",
     "status": "completed"
    },
    "tags": []
   },
   "source": [
    "Se vuelve a calcular R* (**ecuación 9**) para los años 2019, 2018 y 2017 y para cada una de las pymes del dataframe: **sme**"
   ]
  },
  {
   "cell_type": "code",
   "execution_count": 27,
   "id": "5857385a",
   "metadata": {
    "execution": {
     "iopub.execute_input": "2022-01-28T00:15:31.462285Z",
     "iopub.status.busy": "2022-01-28T00:15:31.398209Z",
     "iopub.status.idle": "2022-01-28T00:15:44.426312Z",
     "shell.execute_reply": "2022-01-28T00:15:44.425830Z",
     "shell.execute_reply.started": "2022-01-28T00:11:20.424187Z"
    },
    "papermill": {
     "duration": 13.186689,
     "end_time": "2022-01-28T00:15:44.426470",
     "exception": false,
     "start_time": "2022-01-28T00:15:31.239781",
     "status": "completed"
    },
    "tags": []
   },
   "outputs": [],
   "source": [
    "sme['r* 2019'] = sme[['drt_lp 2018', 'drt_cp 2018']].apply(lambda row: calculateMinInterestPayment(row[0], row[1], 2019), axis=1)\n",
    "sme['r* 2018'] = sme[['drt_lp 2017', 'drt_cp 2017']].apply(lambda row: calculateMinInterestPayment(row[0], row[1], 2018), axis=1)\n",
    "sme['r* 2017'] = sme[['drt_lp 2016', 'drt_cp 2016']].apply(lambda row: calculateMinInterestPayment(row[0], row[1], 2017), axis=1)"
   ]
  },
  {
   "cell_type": "code",
   "execution_count": 28,
   "id": "7e11459e",
   "metadata": {
    "execution": {
     "iopub.execute_input": "2022-01-28T00:15:44.534106Z",
     "iopub.status.busy": "2022-01-28T00:15:44.533477Z",
     "iopub.status.idle": "2022-01-28T00:15:44.536376Z",
     "shell.execute_reply": "2022-01-28T00:15:44.536799Z",
     "shell.execute_reply.started": "2022-01-28T00:11:39.022945Z"
    },
    "papermill": {
     "duration": 0.066527,
     "end_time": "2022-01-28T00:15:44.536937",
     "exception": false,
     "start_time": "2022-01-28T00:15:44.470410",
     "status": "completed"
    },
    "tags": []
   },
   "outputs": [
    {
     "data": {
      "text/html": [
       "<div>\n",
       "<style scoped>\n",
       "    .dataframe tbody tr th:only-of-type {\n",
       "        vertical-align: middle;\n",
       "    }\n",
       "\n",
       "    .dataframe tbody tr th {\n",
       "        vertical-align: top;\n",
       "    }\n",
       "\n",
       "    .dataframe thead th {\n",
       "        text-align: right;\n",
       "    }\n",
       "</style>\n",
       "<table border=\"1\" class=\"dataframe\">\n",
       "  <thead>\n",
       "    <tr style=\"text-align: right;\">\n",
       "      <th></th>\n",
       "      <th>Código NIF</th>\n",
       "      <th>Nombre</th>\n",
       "      <th>ebit 2019</th>\n",
       "      <th>ebit 2018</th>\n",
       "      <th>ebit 2017</th>\n",
       "      <th>deuda_c/p 2019</th>\n",
       "      <th>deuda_c/p 2018</th>\n",
       "      <th>deuda_c/p 2017</th>\n",
       "      <th>deuda_c/p 2016</th>\n",
       "      <th>deuda_con_grupo_c/p 2019</th>\n",
       "      <th>...</th>\n",
       "      <th>drt_lp 2018</th>\n",
       "      <th>drt_lp 2017</th>\n",
       "      <th>drt_lp 2016</th>\n",
       "      <th>drt 2019</th>\n",
       "      <th>drt 2018</th>\n",
       "      <th>r 2019</th>\n",
       "      <th>r* 2019</th>\n",
       "      <th>r* 2018</th>\n",
       "      <th>r* 2017</th>\n",
       "      <th>zombi</th>\n",
       "    </tr>\n",
       "  </thead>\n",
       "  <tbody>\n",
       "    <tr>\n",
       "      <th>0</th>\n",
       "      <td>A01045772</td>\n",
       "      <td>BAR RESTAURANTE LOS GUARANIS SA</td>\n",
       "      <td>-5106.77</td>\n",
       "      <td>-36794.05</td>\n",
       "      <td>-14717.25</td>\n",
       "      <td>8500</td>\n",
       "      <td>2123.97</td>\n",
       "      <td>1146.18</td>\n",
       "      <td>8938.08</td>\n",
       "      <td>n.d.</td>\n",
       "      <td>...</td>\n",
       "      <td>25335.05</td>\n",
       "      <td>33564.50</td>\n",
       "      <td>33670.97</td>\n",
       "      <td>16876.42</td>\n",
       "      <td>27459.02</td>\n",
       "      <td>0.082763</td>\n",
       "      <td>768.311219</td>\n",
       "      <td>991.058293</td>\n",
       "      <td>1272.257431</td>\n",
       "      <td>0</td>\n",
       "    </tr>\n",
       "    <tr>\n",
       "      <th>1</th>\n",
       "      <td>A01104157</td>\n",
       "      <td>EXPLOTACIONES SUBIJANA DE ALAVA SA</td>\n",
       "      <td>979628.32</td>\n",
       "      <td>1131808.94</td>\n",
       "      <td>841951.59</td>\n",
       "      <td>1259167.65</td>\n",
       "      <td>1802709.72</td>\n",
       "      <td>1615663.79</td>\n",
       "      <td>846415.71</td>\n",
       "      <td>n.d.</td>\n",
       "      <td>...</td>\n",
       "      <td>8672240.51</td>\n",
       "      <td>9149877.46</td>\n",
       "      <td>10377394.89</td>\n",
       "      <td>14849398.92</td>\n",
       "      <td>10474950.23</td>\n",
       "      <td>0.015014</td>\n",
       "      <td>157648.084259</td>\n",
       "      <td>169916.893965</td>\n",
       "      <td>190462.913934</td>\n",
       "      <td>0</td>\n",
       "    </tr>\n",
       "    <tr>\n",
       "      <th>2</th>\n",
       "      <td>A01280577</td>\n",
       "      <td>BIASTERI TURISMO SA</td>\n",
       "      <td>209594.38</td>\n",
       "      <td>121434.18</td>\n",
       "      <td>178080.51</td>\n",
       "      <td>333764.6</td>\n",
       "      <td>743774.29</td>\n",
       "      <td>714753.39</td>\n",
       "      <td>557864.83</td>\n",
       "      <td>n.d.</td>\n",
       "      <td>...</td>\n",
       "      <td>2030134.58</td>\n",
       "      <td>2253090.37</td>\n",
       "      <td>2553240.82</td>\n",
       "      <td>3119304.19</td>\n",
       "      <td>2773908.87</td>\n",
       "      <td>0.060682</td>\n",
       "      <td>41750.656749</td>\n",
       "      <td>47290.146666</td>\n",
       "      <td>53454.674045</td>\n",
       "      <td>0</td>\n",
       "    </tr>\n",
       "    <tr>\n",
       "      <th>3</th>\n",
       "      <td>A02003663</td>\n",
       "      <td>HOTELES Y EDIFICIOS, SA</td>\n",
       "      <td>233388.3</td>\n",
       "      <td>172710.84</td>\n",
       "      <td>144877.19</td>\n",
       "      <td>n.d.</td>\n",
       "      <td>20972.88</td>\n",
       "      <td>100819.62</td>\n",
       "      <td>100027.24</td>\n",
       "      <td>n.d.</td>\n",
       "      <td>...</td>\n",
       "      <td>843899.78</td>\n",
       "      <td>870238.02</td>\n",
       "      <td>977568.56</td>\n",
       "      <td>826344.39</td>\n",
       "      <td>864872.66</td>\n",
       "      <td>0.023516</td>\n",
       "      <td>14535.123541</td>\n",
       "      <td>18924.499732</td>\n",
       "      <td>22198.447411</td>\n",
       "      <td>0</td>\n",
       "    </tr>\n",
       "    <tr>\n",
       "      <th>4</th>\n",
       "      <td>A02021574</td>\n",
       "      <td>HOTELES DE LA MANCHA SA</td>\n",
       "      <td>-11767.78</td>\n",
       "      <td>-89182.46</td>\n",
       "      <td>-119563.75</td>\n",
       "      <td>498100.37</td>\n",
       "      <td>464668.44</td>\n",
       "      <td>447806.23</td>\n",
       "      <td>416079.41</td>\n",
       "      <td>n.d.</td>\n",
       "      <td>...</td>\n",
       "      <td>1666090.97</td>\n",
       "      <td>1698952.54</td>\n",
       "      <td>1680491.83</td>\n",
       "      <td>1959193.18</td>\n",
       "      <td>2130759.41</td>\n",
       "      <td>0.003723</td>\n",
       "      <td>32003.380813</td>\n",
       "      <td>34135.352309</td>\n",
       "      <td>36105.081266</td>\n",
       "      <td>1</td>\n",
       "    </tr>\n",
       "  </tbody>\n",
       "</table>\n",
       "<p>5 rows × 37 columns</p>\n",
       "</div>"
      ],
      "text/plain": [
       "  Código NIF                              Nombre  ebit 2019   ebit 2018  \\\n",
       "0  A01045772     BAR RESTAURANTE LOS GUARANIS SA   -5106.77   -36794.05   \n",
       "1  A01104157  EXPLOTACIONES SUBIJANA DE ALAVA SA  979628.32  1131808.94   \n",
       "2  A01280577                 BIASTERI TURISMO SA  209594.38   121434.18   \n",
       "3  A02003663             HOTELES Y EDIFICIOS, SA   233388.3   172710.84   \n",
       "4  A02021574             HOTELES DE LA MANCHA SA  -11767.78   -89182.46   \n",
       "\n",
       "   ebit 2017 deuda_c/p 2019 deuda_c/p 2018 deuda_c/p 2017 deuda_c/p 2016  \\\n",
       "0  -14717.25           8500        2123.97        1146.18        8938.08   \n",
       "1  841951.59     1259167.65     1802709.72     1615663.79      846415.71   \n",
       "2  178080.51       333764.6      743774.29      714753.39      557864.83   \n",
       "3  144877.19           n.d.       20972.88      100819.62      100027.24   \n",
       "4 -119563.75      498100.37      464668.44      447806.23      416079.41   \n",
       "\n",
       "  deuda_con_grupo_c/p 2019  ... drt_lp 2018 drt_lp 2017  drt_lp 2016  \\\n",
       "0                     n.d.  ...    25335.05    33564.50     33670.97   \n",
       "1                     n.d.  ...  8672240.51  9149877.46  10377394.89   \n",
       "2                     n.d.  ...  2030134.58  2253090.37   2553240.82   \n",
       "3                     n.d.  ...   843899.78   870238.02    977568.56   \n",
       "4                     n.d.  ...  1666090.97  1698952.54   1680491.83   \n",
       "\n",
       "      drt 2019     drt 2018    r 2019        r* 2019        r* 2018  \\\n",
       "0     16876.42     27459.02  0.082763     768.311219     991.058293   \n",
       "1  14849398.92  10474950.23  0.015014  157648.084259  169916.893965   \n",
       "2   3119304.19   2773908.87  0.060682   41750.656749   47290.146666   \n",
       "3    826344.39    864872.66  0.023516   14535.123541   18924.499732   \n",
       "4   1959193.18   2130759.41  0.003723   32003.380813   34135.352309   \n",
       "\n",
       "         r* 2017 zombi  \n",
       "0    1272.257431     0  \n",
       "1  190462.913934     0  \n",
       "2   53454.674045     0  \n",
       "3   22198.447411     0  \n",
       "4   36105.081266     1  \n",
       "\n",
       "[5 rows x 37 columns]"
      ]
     },
     "execution_count": 28,
     "metadata": {},
     "output_type": "execute_result"
    }
   ],
   "source": [
    "sme.head()"
   ]
  },
  {
   "cell_type": "markdown",
   "id": "daa0cab5",
   "metadata": {
    "papermill": {
     "duration": 0.046225,
     "end_time": "2022-01-28T00:15:44.656095",
     "exception": false,
     "start_time": "2022-01-28T00:15:44.609870",
     "status": "completed"
    },
    "tags": []
   },
   "source": [
    "Se calcula la etiqueta para cada una de las pymes disponibles en el dataframe: **sme**"
   ]
  },
  {
   "cell_type": "code",
   "execution_count": 29,
   "id": "a376ab07",
   "metadata": {
    "execution": {
     "iopub.execute_input": "2022-01-28T00:15:44.746810Z",
     "iopub.status.busy": "2022-01-28T00:15:44.745961Z",
     "iopub.status.idle": "2022-01-28T00:15:45.176360Z",
     "shell.execute_reply": "2022-01-28T00:15:45.175848Z",
     "shell.execute_reply.started": "2022-01-28T00:11:44.045846Z"
    },
    "papermill": {
     "duration": 0.477343,
     "end_time": "2022-01-28T00:15:45.176516",
     "exception": false,
     "start_time": "2022-01-28T00:15:44.699173",
     "status": "completed"
    },
    "tags": []
   },
   "outputs": [],
   "source": [
    "sme['zombi'] = sme.apply(lambda row: detectZombieFirms([row['ebit 2019'], row['ebit 2018'], row['ebit 2017']],\n",
    "                                                          [row['r* 2019'], row['r* 2018'], row['r* 2017']], row['r 2019'],\n",
    "                                                          row['drt 2019'], row['drt 2018']), axis=1)"
   ]
  },
  {
   "cell_type": "markdown",
   "id": "021b3f33",
   "metadata": {
    "papermill": {
     "duration": 0.04155,
     "end_time": "2022-01-28T00:15:45.260598",
     "exception": false,
     "start_time": "2022-01-28T00:15:45.219048",
     "status": "completed"
    },
    "tags": []
   },
   "source": [
    "A continuación, se visualizan el número de pymes zombis identificadas por el segundo criterio propuesto en el estudio:"
   ]
  },
  {
   "cell_type": "code",
   "execution_count": 30,
   "id": "5674400c",
   "metadata": {
    "execution": {
     "iopub.execute_input": "2022-01-28T00:15:45.351609Z",
     "iopub.status.busy": "2022-01-28T00:15:45.350895Z",
     "iopub.status.idle": "2022-01-28T00:15:45.361721Z",
     "shell.execute_reply": "2022-01-28T00:15:45.362305Z",
     "shell.execute_reply.started": "2022-01-28T00:11:51.182280Z"
    },
    "papermill": {
     "duration": 0.058312,
     "end_time": "2022-01-28T00:15:45.362500",
     "exception": false,
     "start_time": "2022-01-28T00:15:45.304188",
     "status": "completed"
    },
    "tags": []
   },
   "outputs": [
    {
     "name": "stdout",
     "output_type": "stream",
     "text": [
      "Pymes Totales: 9204\n",
      "Pymes Zombi: 564\n",
      "Pymes No Zombi: 8640\n"
     ]
    }
   ],
   "source": [
    "print(\"Pymes Totales:\", sme.shape[0])\n",
    "print(\"Pymes Zombi:\", len(sme.loc[sme['zombi'] == 1]))\n",
    "print(\"Pymes No Zombi:\", len(sme.loc[sme['zombi'] == 0]))"
   ]
  },
  {
   "cell_type": "markdown",
   "id": "732cfe7c",
   "metadata": {
    "papermill": {
     "duration": 0.041907,
     "end_time": "2022-01-28T00:15:45.447070",
     "exception": false,
     "start_time": "2022-01-28T00:15:45.405163",
     "status": "completed"
    },
    "tags": []
   },
   "source": [
    "Se guardan los códigos NIF de las empresas zombis identificadas con el segundo criterio para comparar el grado de semejanza de ambos criterios del estudio."
   ]
  },
  {
   "cell_type": "code",
   "execution_count": 31,
   "id": "7e4ae58d",
   "metadata": {
    "execution": {
     "iopub.execute_input": "2022-01-28T00:15:45.537945Z",
     "iopub.status.busy": "2022-01-28T00:15:45.535341Z",
     "iopub.status.idle": "2022-01-28T00:15:45.541212Z",
     "shell.execute_reply": "2022-01-28T00:15:45.540807Z",
     "shell.execute_reply.started": "2022-01-28T00:12:17.682354Z"
    },
    "papermill": {
     "duration": 0.052441,
     "end_time": "2022-01-28T00:15:45.541324",
     "exception": false,
     "start_time": "2022-01-28T00:15:45.488883",
     "status": "completed"
    },
    "tags": []
   },
   "outputs": [
    {
     "data": {
      "text/plain": [
       "['A02021574', 'A03358744', 'A03462272', 'A04102547', 'A07051881']"
      ]
     },
     "execution_count": 31,
     "metadata": {},
     "output_type": "execute_result"
    }
   ],
   "source": [
    "zombies_nif_2 = list(sme.loc[sme['zombi'] == 1, 'Código NIF'])\n",
    "zombies_nif_2[0:5]"
   ]
  },
  {
   "cell_type": "markdown",
   "id": "694f1675",
   "metadata": {
    "papermill": {
     "duration": 0.042655,
     "end_time": "2022-01-28T00:15:45.626623",
     "exception": false,
     "start_time": "2022-01-28T00:15:45.583968",
     "status": "completed"
    },
    "tags": []
   },
   "source": [
    "## Comparación de las pymes zombis identificadas por criterio principal y alternativo"
   ]
  },
  {
   "cell_type": "markdown",
   "id": "85a4c5a7",
   "metadata": {
    "papermill": {
     "duration": 0.042416,
     "end_time": "2022-01-28T00:15:45.711449",
     "exception": false,
     "start_time": "2022-01-28T00:15:45.669033",
     "status": "completed"
    },
    "tags": []
   },
   "source": [
    "Para finalizar con el presente notebook, se calculan cuantas pymes identificadas por criterio principal del estudio son también identificadas como zombis por el criterio 2."
   ]
  },
  {
   "cell_type": "code",
   "execution_count": 32,
   "id": "6c61730f",
   "metadata": {
    "execution": {
     "iopub.execute_input": "2022-01-28T00:15:45.803256Z",
     "iopub.status.busy": "2022-01-28T00:15:45.802352Z",
     "iopub.status.idle": "2022-01-28T00:15:45.805290Z",
     "shell.execute_reply": "2022-01-28T00:15:45.805885Z",
     "shell.execute_reply.started": "2022-01-28T00:13:14.194242Z"
    },
    "papermill": {
     "duration": 0.052132,
     "end_time": "2022-01-28T00:15:45.806069",
     "exception": false,
     "start_time": "2022-01-28T00:15:45.753937",
     "status": "completed"
    },
    "tags": []
   },
   "outputs": [
    {
     "name": "stdout",
     "output_type": "stream",
     "text": [
      "Grado de semejanza entre el criterio alternativo y principal: 100.0 %\n"
     ]
    }
   ],
   "source": [
    "common_zombies = list(set(zombies_nif_1).intersection(zombies_nif_2))\n",
    "print(\"Grado de semejanza entre el criterio alternativo y principal:\",\n",
    "      (len(common_zombies)/len(zombies_nif_2))*100, \"%\")"
   ]
  },
  {
   "cell_type": "markdown",
   "id": "1fa8af4e",
   "metadata": {
    "papermill": {
     "duration": 0.043058,
     "end_time": "2022-01-28T00:15:45.893380",
     "exception": false,
     "start_time": "2022-01-28T00:15:45.850322",
     "status": "completed"
    },
    "tags": []
   },
   "source": [
    "Tal y como se puede observar en la anterior celda, todas aquellas 564 pymes que son detectadas como zombis por el segundo criterio lo son también por el criterio principal del estudio. Esto demuestra que ambos criterios sirven para identificar a las pymes zombis sin embargo, el segundo identifica una menor cantidad de pymes zombis en comparación al primero."
   ]
  }
 ],
 "metadata": {
  "kernelspec": {
   "display_name": "Python 3",
   "language": "python",
   "name": "python3"
  },
  "language_info": {
   "codemirror_mode": {
    "name": "ipython",
    "version": 3
   },
   "file_extension": ".py",
   "mimetype": "text/x-python",
   "name": "python",
   "nbconvert_exporter": "python",
   "pygments_lexer": "ipython3",
   "version": "3.7.12"
  },
  "papermill": {
   "default_parameters": {},
   "duration": 59.611454,
   "end_time": "2022-01-28T00:15:46.446294",
   "environment_variables": {},
   "exception": null,
   "input_path": "__notebook__.ipynb",
   "output_path": "__notebook__.ipynb",
   "parameters": {},
   "start_time": "2022-01-28T00:14:46.834840",
   "version": "2.3.3"
  }
 },
 "nbformat": 4,
 "nbformat_minor": 5
}
